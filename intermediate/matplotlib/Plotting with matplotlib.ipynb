{
 "metadata": {
  "name": "",
  "signature": "sha256:8987a01ac79d14445772b6905a5e62c4741164d699d41db8f76157dab54383d9"
 },
 "nbformat": 3,
 "nbformat_minor": 0,
 "worksheets": [
  {
   "cells": [
    {
     "cell_type": "heading",
     "level": 1,
     "metadata": {},
     "source": [
      "Importing Matplotlib's pylab"
     ]
    },
    {
     "cell_type": "code",
     "collapsed": false,
     "input": [
      "# pylab is a nice interface to all that is matplotlib\n",
      "import matplotlib.pylab as plt\n",
      "import numpy as np\n",
      "\n",
      "# Should plots pop up as you type? Use interactive on/off plt.ion() or plt.ioff()\n",
      "plt.ion()"
     ],
     "language": "python",
     "metadata": {},
     "outputs": [],
     "prompt_number": 3
    },
    {
     "cell_type": "code",
     "collapsed": false,
     "input": [
      "# In the iPython Notebook and ipython you can alternatively use \"magic\" to import matplotlib and numpy\n",
      "%pylab"
     ],
     "language": "python",
     "metadata": {},
     "outputs": [
      {
       "output_type": "stream",
       "stream": "stdout",
       "text": [
        "Using matplotlib backend: MacOSX\n",
        "Populating the interactive namespace from numpy and matplotlib\n"
       ]
      }
     ],
     "prompt_number": 1
    },
    {
     "cell_type": "code",
     "collapsed": false,
     "input": [
      "import os\n",
      "\n",
      "def directory_check(directory):\n",
      "    if not os.path.isdir(directory):\n",
      "        print 'Need to make the directory.'\n",
      "        print 'mkdir', directory\n",
      "    else:\n",
      "        print '%s exists' % directory\n",
      "\n",
      "def plot_demo():\n",
      "    plt.figure()\n",
      "    plt.plot(np.sin(np.linspace(0, 2*np.pi)))\n",
      "    plt.plot(np.sin(np.linspace(0, 2*np.pi)), 'o')"
     ],
     "language": "python",
     "metadata": {},
     "outputs": [],
     "prompt_number": 2
    },
    {
     "cell_type": "heading",
     "level": 1,
     "metadata": {},
     "source": [
      "Basic Plotting"
     ]
    },
    {
     "cell_type": "markdown",
     "metadata": {},
     "source": [
      "Basic components of the figure environment:"
     ]
    },
    {
     "cell_type": "code",
     "collapsed": false,
     "input": [
      "from IPython.display import Image\n",
      "Image(url='http://matplotlib.org/_images/fig_map.png')"
     ],
     "language": "python",
     "metadata": {},
     "outputs": [
      {
       "html": [
        "<img src=\"http://matplotlib.org/_images/fig_map.png\"/>"
       ],
       "metadata": {},
       "output_type": "pyout",
       "prompt_number": 60,
       "text": [
        "<IPython.core.display.Image at 0x10e740750>"
       ]
      }
     ],
     "prompt_number": 60
    },
    {
     "cell_type": "markdown",
     "metadata": {},
     "source": [
      "There are several ways to make a figure:\n",
      "(for documentation type e.g, plt.figure?)"
     ]
    },
    {
     "cell_type": "code",
     "collapsed": false,
     "input": [
      "# basic\n",
      "fig = plt.figure()\n",
      "ax = plt.axes()\n",
      "# plt.figure?\n",
      "# plt.axes?"
     ],
     "language": "python",
     "metadata": {},
     "outputs": [],
     "prompt_number": 112
    },
    {
     "cell_type": "code",
     "collapsed": false,
     "input": [
      "# my favorite:\n",
      "fig, ax = plt.subplots()\n",
      "# plt.subplots?\n",
      "# fig, ax = plt.subplots(ncols=2)\n",
      "# fig, ax = plt.subplots(nrows=2, ncols=2, figsize=(8,8))"
     ],
     "language": "python",
     "metadata": {},
     "outputs": [],
     "prompt_number": 125
    },
    {
     "cell_type": "code",
     "collapsed": false,
     "input": [
      "# clear them:\n",
      "plt.close()  # close the most recent window\n",
      "plt.close('all')"
     ],
     "language": "python",
     "metadata": {},
     "outputs": [],
     "prompt_number": 157
    },
    {
     "cell_type": "code",
     "collapsed": false,
     "input": [
      "# define something to plot\n",
      "y = np.sin(np.linspace(0, 2*np.pi, 20))\n",
      "x = np.arange(20)"
     ],
     "language": "python",
     "metadata": {},
     "outputs": [],
     "prompt_number": 116
    },
    {
     "cell_type": "heading",
     "level": 2,
     "metadata": {},
     "source": [
      "Line Plots"
     ]
    },
    {
     "cell_type": "markdown",
     "metadata": {},
     "source": [
      "<code> '-'             solid line style\n",
      " '--'            dashed line style\n",
      " '-.'            dash-dot line style\n",
      " ':'             dotted line style\n",
      " 'steps' | 'steps-pre' | 'steps-mid' | 'steps-post'\n",
      " </code>"
     ]
    },
    {
     "cell_type": "markdown",
     "metadata": {},
     "source": [
      "Try these:"
     ]
    },
    {
     "cell_type": "code",
     "collapsed": false,
     "input": [
      "fig, ax = plt.subplots()\n",
      "# plt.plot?\n",
      "ax.plot(x, y)\n",
      "ax.plot(x, y, ':')\n",
      "ax.plot(x, y, linestyle=':')\n",
      "ax.plot(x, y, linestyle='steps')\n",
      "ax.plot(x, y, linestyle='steps-pre:')"
     ],
     "language": "python",
     "metadata": {},
     "outputs": [
      {
       "metadata": {},
       "output_type": "pyout",
       "prompt_number": 160,
       "text": [
        "[<matplotlib.lines.Line2D at 0x1105201d0>]"
       ]
      }
     ],
     "prompt_number": 160
    },
    {
     "cell_type": "heading",
     "level": 2,
     "metadata": {},
     "source": [
      "Scatter plots using markers"
     ]
    },
    {
     "cell_type": "markdown",
     "metadata": {},
     "source": [
      "<code> ``'.'``             point marker\n",
      " ``','``             pixel marker\n",
      " ``'o'``             circle marker\n",
      " ``'*'``             star marker\n",
      " ``'x'``             x marker\n",
      " ``'D'``             diamond marker\n",
      " ``'d'``             thin_diamond marker\n",
      "</code>\n"
     ]
    },
    {
     "cell_type": "code",
     "collapsed": false,
     "input": [
      "fig, ax = plt.subplots()\n",
      "ax.plot(x, y, 'o')\n",
      "\n",
      "fig, ax = plt.subplots()\n",
      "ax.plot(x, y, 'o', ms=30, mec='white', alpha=0.3)"
     ],
     "language": "python",
     "metadata": {},
     "outputs": [
      {
       "metadata": {},
       "output_type": "pyout",
       "prompt_number": 159,
       "text": [
        "[<matplotlib.lines.Line2D at 0x1153908d0>]"
       ]
      }
     ],
     "prompt_number": 159
    },
    {
     "cell_type": "heading",
     "level": 2,
     "metadata": {},
     "source": [
      "Scatter using plt.scatter"
     ]
    },
    {
     "cell_type": "markdown",
     "metadata": {},
     "source": [
      "Scatter is useful because you can set the individual color or marker sizes as arrays."
     ]
    },
    {
     "cell_type": "code",
     "collapsed": false,
     "input": [
      "# A scatter plot that uses colors picked by the y value (you must set the color map)\n",
      "fig, ax = plt.subplots()\n",
      "ax.scatter(x, y, c=y, cmap=plt.cm.RdYlBu, s=150)\n",
      "\n",
      "# Same as above, with the marker size set by the array z\n",
      "fig, ax = plt.subplots()\n",
      "z = np.random.random(20) * 1000\n",
      "ax.scatter(x, y, c=y, cmap=plt.cm.RdYlBu, s=z)"
     ],
     "language": "python",
     "metadata": {},
     "outputs": [],
     "prompt_number": 156
    },
    {
     "cell_type": "heading",
     "level": 2,
     "metadata": {},
     "source": [
      "Error Bars"
     ]
    },
    {
     "cell_type": "code",
     "collapsed": false,
     "input": [
      "xerr = np.sqrt(x)\n",
      "yerr = 0.1\n",
      "fig, ax = plt.subplots()\n",
      "ax.errorbar(x, y, xerr=xerr, yerr=yerr)\n",
      "# no error caps, color the error bars differently than the data:\n",
      "ax.errorbar(x, y, xerr=xerr, yerr=yerr, capsize=0, ecolor='gray')\n",
      "# don't plot values? Just error bars? set fmt='none'\n",
      "ax.errorbar(x, y, xerr=xerr, yerr=yerr, capsize=0, ecolor='gray', fmt='none')"
     ],
     "language": "python",
     "metadata": {},
     "outputs": [
      {
       "metadata": {},
       "output_type": "pyout",
       "prompt_number": 171,
       "text": [
        "<Container object of 3 artists>"
       ]
      }
     ],
     "prompt_number": 171
    },
    {
     "cell_type": "heading",
     "level": 2,
     "metadata": {},
     "source": [
      "Histograms"
     ]
    },
    {
     "cell_type": "markdown",
     "metadata": {},
     "source": [
      "Matplotlib has a plt.hist function that can create histograms and plot them."
     ]
    },
    {
     "cell_type": "code",
     "collapsed": false,
     "input": [
      "x = plt.randn(10000)\n",
      "y = plt.randn(10000)\n",
      "\n",
      "fig, ax = plt.subplots()\n",
      "h, bins, p = ax.hist(x, bins=20)\n",
      "\n",
      "fig, ax = plt.subplots()\n",
      "h, xe, ye, p = ax.hist2d(x, y, bins=20, cmap=plt.cm.RdYlBu)"
     ],
     "language": "python",
     "metadata": {},
     "outputs": []
    },
    {
     "cell_type": "markdown",
     "metadata": {},
     "source": [
      "Personally, I prefer to use np.histogram with plt.plot using linestyle='steps-pre' since I'm usually using the binned data at some other point in the code. "
     ]
    },
    {
     "cell_type": "code",
     "collapsed": false,
     "input": [
      "fig, ax = plt.subplots()\n",
      "h, bins = np.histogram(x, bins=20)\n",
      "ax.plot(bins[1:], h, linestyle='steps-pre')\n",
      "plt.draw()"
     ],
     "language": "python",
     "metadata": {},
     "outputs": [],
     "prompt_number": 5
    },
    {
     "cell_type": "heading",
     "level": 1,
     "metadata": {},
     "source": [
      "Plotting with Data"
     ]
    },
    {
     "cell_type": "code",
     "collapsed": false,
     "input": [],
     "language": "python",
     "metadata": {},
     "outputs": []
    },
    {
     "cell_type": "heading",
     "level": 2,
     "metadata": {},
     "source": [
      "Line"
     ]
    },
    {
     "cell_type": "code",
     "collapsed": false,
     "input": [],
     "language": "python",
     "metadata": {},
     "outputs": []
    },
    {
     "cell_type": "heading",
     "level": 2,
     "metadata": {},
     "source": [
      "Scatter"
     ]
    },
    {
     "cell_type": "code",
     "collapsed": false,
     "input": [],
     "language": "python",
     "metadata": {},
     "outputs": []
    },
    {
     "cell_type": "heading",
     "level": 2,
     "metadata": {},
     "source": [
      "Error Bars"
     ]
    },
    {
     "cell_type": "code",
     "collapsed": false,
     "input": [],
     "language": "python",
     "metadata": {},
     "outputs": []
    },
    {
     "cell_type": "heading",
     "level": 2,
     "metadata": {},
     "source": [
      "Histograms"
     ]
    },
    {
     "cell_type": "code",
     "collapsed": false,
     "input": [],
     "language": "python",
     "metadata": {},
     "outputs": []
    },
    {
     "cell_type": "heading",
     "level": 2,
     "metadata": {},
     "source": [
      "Imshow"
     ]
    },
    {
     "cell_type": "code",
     "collapsed": false,
     "input": [],
     "language": "python",
     "metadata": {},
     "outputs": []
    },
    {
     "cell_type": "heading",
     "level": 1,
     "metadata": {},
     "source": [
      "Important interfaces with Matplotlib"
     ]
    },
    {
     "cell_type": "code",
     "collapsed": false,
     "input": [],
     "language": "python",
     "metadata": {},
     "outputs": []
    },
    {
     "cell_type": "heading",
     "level": 2,
     "metadata": {},
     "source": [
      "Aplpy"
     ]
    },
    {
     "cell_type": "code",
     "collapsed": false,
     "input": [],
     "language": "python",
     "metadata": {},
     "outputs": []
    },
    {
     "cell_type": "heading",
     "level": 2,
     "metadata": {},
     "source": [
      "AstroML"
     ]
    },
    {
     "cell_type": "code",
     "collapsed": false,
     "input": [],
     "language": "python",
     "metadata": {},
     "outputs": []
    },
    {
     "cell_type": "heading",
     "level": 1,
     "metadata": {},
     "source": [
      "Customizations"
     ]
    },
    {
     "cell_type": "markdown",
     "metadata": {},
     "source": [
      "Matplotlib has a few ways of customizing the plotting environment.  \n",
      "+ rcParams: Global default settings \n",
      "+ mplstyle files: Quick runtime edits of rcParams"
     ]
    },
    {
     "cell_type": "heading",
     "level": 2,
     "metadata": {},
     "source": [
      "rcParams"
     ]
    },
    {
     "cell_type": "markdown",
     "metadata": {},
     "source": [
      "To see what the current setup is, find the matplotlibrc file in your matplotlib data path: install_dir/python?.?/site-packages/matplotlib/"
     ]
    },
    {
     "cell_type": "code",
     "collapsed": false,
     "input": [
      "print 'matplotlib data path:', mpl.get_data_path()\n",
      "mplrc = os.path.join(mpl.get_data_path(), 'matplotlibrc')"
     ],
     "language": "python",
     "metadata": {},
     "outputs": [
      {
       "output_type": "stream",
       "stream": "stdout",
       "text": [
        "matplotlib data path: /Users/rosenfield/anaconda/lib/python2.7/site-packages/matplotlib/mpl-data\n"
       ]
      }
     ],
     "prompt_number": 52
    },
    {
     "cell_type": "code",
     "collapsed": false,
     "input": [
      "# In terminal use 'cat' to see the contents of the matplotlibrc file, or open it.\n",
      "print '$ cat %s' % mplrc"
     ],
     "language": "python",
     "metadata": {},
     "outputs": [
      {
       "output_type": "stream",
       "stream": "stdout",
       "text": [
        "$ cat /Users/rosenfield/anaconda/lib/python2.7/site-packages/matplotlib/mpl-data/matplotlibrc\n"
       ]
      }
     ],
     "prompt_number": 53
    },
    {
     "cell_type": "markdown",
     "metadata": {},
     "source": [
      "To make changes to matplotlibrc, you will first have to copy it to your matplotlib user directory, or any changes will be overwritten with future matplotlib installs/upgrades. "
     ]
    },
    {
     "cell_type": "code",
     "collapsed": false,
     "input": [
      "# Quick check if you may need to create the directory .matplotlib\n",
      "user_mpl_path = os.path.join(os.environ['HOME'], '.matplotlib')\n",
      "directory_check(user_mpl_path)"
     ],
     "language": "python",
     "metadata": {},
     "outputs": [
      {
       "output_type": "stream",
       "stream": "stdout",
       "text": [
        "/Users/rosenfield/.matplotlib exists\n"
       ]
      }
     ],
     "prompt_number": 54
    },
    {
     "cell_type": "markdown",
     "metadata": {},
     "source": [
      "Copy the default matplotlibrc to your matplotlib user directory and then follow directions within the matplotlibrc file"
     ]
    },
    {
     "cell_type": "code",
     "collapsed": false,
     "input": [
      "print 'cp %s %s/matplotlibrc' % (mplrc, user_mpl_path)"
     ],
     "language": "python",
     "metadata": {},
     "outputs": [
      {
       "output_type": "stream",
       "stream": "stdout",
       "text": [
        "cp /Users/rosenfield/anaconda/lib/python2.7/site-packages/matplotlib/mpl-data/matplotlibrc /Users/rosenfield/.matplotlib/matplotlibrc\n"
       ]
      }
     ],
     "prompt_number": 55
    },
    {
     "cell_type": "markdown",
     "metadata": {},
     "source": [
      "To see all available options:"
     ]
    },
    {
     "cell_type": "code",
     "collapsed": false,
     "input": [
      "plt.rcParams.keys()"
     ],
     "language": "python",
     "metadata": {},
     "outputs": [
      {
       "metadata": {},
       "output_type": "pyout",
       "prompt_number": 56,
       "text": [
        "[u'agg.path.chunksize',\n",
        " u'animation.avconv_args',\n",
        " u'animation.avconv_path',\n",
        " u'animation.bitrate',\n",
        " u'animation.codec',\n",
        " u'animation.convert_args',\n",
        " u'animation.convert_path',\n",
        " u'animation.ffmpeg_args',\n",
        " u'animation.ffmpeg_path',\n",
        " u'animation.frame_format',\n",
        " u'animation.mencoder_args',\n",
        " u'animation.mencoder_path',\n",
        " u'animation.writer',\n",
        " u'axes.axisbelow',\n",
        " u'axes.color_cycle',\n",
        " u'axes.edgecolor',\n",
        " u'axes.facecolor',\n",
        " u'axes.formatter.limits',\n",
        " u'axes.formatter.use_locale',\n",
        " u'axes.formatter.use_mathtext',\n",
        " u'axes.formatter.useoffset',\n",
        " u'axes.grid',\n",
        " u'axes.grid.which',\n",
        " u'axes.hold',\n",
        " u'axes.labelcolor',\n",
        " u'axes.labelsize',\n",
        " u'axes.labelweight',\n",
        " u'axes.linewidth',\n",
        " u'axes.titlesize',\n",
        " u'axes.titleweight',\n",
        " u'axes.unicode_minus',\n",
        " u'axes.xmargin',\n",
        " u'axes.ymargin',\n",
        " u'axes3d.grid',\n",
        " u'backend',\n",
        " u'backend.qt4',\n",
        " u'backend.qt5',\n",
        " u'backend_fallback',\n",
        " u'contour.negative_linestyle',\n",
        " u'datapath',\n",
        " u'docstring.hardcopy',\n",
        " u'examples.directory',\n",
        " u'figure.autolayout',\n",
        " u'figure.dpi',\n",
        " u'figure.edgecolor',\n",
        " u'figure.facecolor',\n",
        " u'figure.figsize',\n",
        " u'figure.frameon',\n",
        " u'figure.max_open_warning',\n",
        " u'figure.subplot.bottom',\n",
        " u'figure.subplot.hspace',\n",
        " u'figure.subplot.left',\n",
        " u'figure.subplot.right',\n",
        " u'figure.subplot.top',\n",
        " u'figure.subplot.wspace',\n",
        " u'font.cursive',\n",
        " u'font.family',\n",
        " u'font.fantasy',\n",
        " u'font.monospace',\n",
        " u'font.sans-serif',\n",
        " u'font.serif',\n",
        " u'font.size',\n",
        " u'font.stretch',\n",
        " u'font.style',\n",
        " u'font.variant',\n",
        " u'font.weight',\n",
        " u'grid.alpha',\n",
        " u'grid.color',\n",
        " u'grid.linestyle',\n",
        " u'grid.linewidth',\n",
        " u'image.aspect',\n",
        " u'image.cmap',\n",
        " u'image.interpolation',\n",
        " u'image.lut',\n",
        " u'image.origin',\n",
        " u'image.resample',\n",
        " u'interactive',\n",
        " u'keymap.all_axes',\n",
        " u'keymap.back',\n",
        " u'keymap.forward',\n",
        " u'keymap.fullscreen',\n",
        " u'keymap.grid',\n",
        " u'keymap.home',\n",
        " u'keymap.pan',\n",
        " u'keymap.quit',\n",
        " u'keymap.save',\n",
        " u'keymap.xscale',\n",
        " u'keymap.yscale',\n",
        " u'keymap.zoom',\n",
        " u'legend.borderaxespad',\n",
        " u'legend.borderpad',\n",
        " u'legend.columnspacing',\n",
        " u'legend.fancybox',\n",
        " u'legend.fontsize',\n",
        " u'legend.frameon',\n",
        " u'legend.handleheight',\n",
        " u'legend.handlelength',\n",
        " u'legend.handletextpad',\n",
        " u'legend.isaxes',\n",
        " u'legend.labelspacing',\n",
        " u'legend.loc',\n",
        " u'legend.markerscale',\n",
        " u'legend.numpoints',\n",
        " u'legend.scatterpoints',\n",
        " u'legend.shadow',\n",
        " u'lines.antialiased',\n",
        " u'lines.color',\n",
        " u'lines.dash_capstyle',\n",
        " u'lines.dash_joinstyle',\n",
        " u'lines.linestyle',\n",
        " u'lines.linewidth',\n",
        " u'lines.marker',\n",
        " u'lines.markeredgewidth',\n",
        " u'lines.markersize',\n",
        " u'lines.solid_capstyle',\n",
        " u'lines.solid_joinstyle',\n",
        " u'mathtext.bf',\n",
        " u'mathtext.cal',\n",
        " u'mathtext.default',\n",
        " u'mathtext.fallback_to_cm',\n",
        " u'mathtext.fontset',\n",
        " u'mathtext.it',\n",
        " u'mathtext.rm',\n",
        " u'mathtext.sf',\n",
        " u'mathtext.tt',\n",
        " u'patch.antialiased',\n",
        " u'patch.edgecolor',\n",
        " u'patch.facecolor',\n",
        " u'patch.linewidth',\n",
        " u'path.effects',\n",
        " u'path.simplify',\n",
        " u'path.simplify_threshold',\n",
        " u'path.sketch',\n",
        " u'path.snap',\n",
        " u'pdf.compression',\n",
        " u'pdf.fonttype',\n",
        " u'pdf.inheritcolor',\n",
        " u'pdf.use14corefonts',\n",
        " u'pgf.debug',\n",
        " u'pgf.preamble',\n",
        " u'pgf.rcfonts',\n",
        " u'pgf.texsystem',\n",
        " u'plugins.directory',\n",
        " u'polaraxes.grid',\n",
        " u'ps.distiller.res',\n",
        " u'ps.fonttype',\n",
        " u'ps.papersize',\n",
        " u'ps.useafm',\n",
        " u'ps.usedistiller',\n",
        " u'savefig.bbox',\n",
        " u'savefig.directory',\n",
        " u'savefig.dpi',\n",
        " u'savefig.edgecolor',\n",
        " u'savefig.extension',\n",
        " u'savefig.facecolor',\n",
        " u'savefig.format',\n",
        " u'savefig.frameon',\n",
        " u'savefig.jpeg_quality',\n",
        " u'savefig.orientation',\n",
        " u'savefig.pad_inches',\n",
        " u'savefig.transparent',\n",
        " u'svg.embed_char_paths',\n",
        " u'svg.fonttype',\n",
        " u'svg.image_inline',\n",
        " u'svg.image_noscale',\n",
        " u'text.antialiased',\n",
        " u'text.color',\n",
        " u'text.dvipnghack',\n",
        " u'text.hinting',\n",
        " u'text.hinting_factor',\n",
        " u'text.latex.preamble',\n",
        " u'text.latex.preview',\n",
        " u'text.latex.unicode',\n",
        " u'text.usetex',\n",
        " u'timezone',\n",
        " u'tk.pythoninspect',\n",
        " u'tk.window_focus',\n",
        " u'toolbar',\n",
        " u'verbose.fileo',\n",
        " u'verbose.level',\n",
        " u'webagg.open_in_browser',\n",
        " u'webagg.port',\n",
        " u'webagg.port_retries',\n",
        " u'xtick.color',\n",
        " u'xtick.direction',\n",
        " u'xtick.labelsize',\n",
        " u'xtick.major.pad',\n",
        " u'xtick.major.size',\n",
        " u'xtick.major.width',\n",
        " u'xtick.minor.pad',\n",
        " u'xtick.minor.size',\n",
        " u'xtick.minor.width',\n",
        " u'ytick.color',\n",
        " u'ytick.direction',\n",
        " u'ytick.labelsize',\n",
        " u'ytick.major.pad',\n",
        " u'ytick.major.size',\n",
        " u'ytick.major.width',\n",
        " u'ytick.minor.pad',\n",
        " u'ytick.minor.size',\n",
        " u'ytick.minor.width']"
       ]
      }
     ],
     "prompt_number": 56
    },
    {
     "cell_type": "heading",
     "level": 2,
     "metadata": {},
     "source": [
      "Mpl Styles"
     ]
    },
    {
     "cell_type": "markdown",
     "metadata": {},
     "source": [
      "Say you want to plot a few different styles, one for your paper, another for your presenation. In that case, you don't need to make many changes to the matplotlibrc file. You can create your own style files that overide rcParams, either for a given plot command, or thoughout an entire script."
     ]
    },
    {
     "cell_type": "markdown",
     "metadata": {},
     "source": [
      "Some styles are available by default:"
     ]
    },
    {
     "cell_type": "code",
     "collapsed": false,
     "input": [
      "print plt.style.available"
     ],
     "language": "python",
     "metadata": {},
     "outputs": [
      {
       "output_type": "stream",
       "stream": "stdout",
       "text": [
        "[u'grayscale', u'bmh', u'dark_background', u'ggplot', u'fivethirtyeight', u'presentation']\n"
       ]
      }
     ],
     "prompt_number": 35
    },
    {
     "cell_type": "markdown",
     "metadata": {},
     "source": [
      "to set a default style for the entire session:"
     ]
    },
    {
     "cell_type": "code",
     "collapsed": false,
     "input": [
      "# default\n",
      "plot_demo()\n",
      "\n",
      "# bmh\n",
      "plt.style.use('bmh')\n",
      "plot_demo()"
     ],
     "language": "python",
     "metadata": {},
     "outputs": [],
     "prompt_number": 47
    },
    {
     "cell_type": "markdown",
     "metadata": {},
     "source": [
      "Use a style once, and go back to default style afterwards:"
     ]
    },
    {
     "cell_type": "code",
     "collapsed": false,
     "input": [
      "with plt.style.context(('dark_background')):\n",
      "    plot_demo()"
     ],
     "language": "python",
     "metadata": {},
     "outputs": []
    },
    {
     "cell_type": "code",
     "collapsed": false,
     "input": [
      "# and now it should be back to bmh\n",
      "plot_demo()"
     ],
     "language": "python",
     "metadata": {},
     "outputs": [],
     "prompt_number": 51
    },
    {
     "cell_type": "heading",
     "level": 3,
     "metadata": {},
     "source": [
      "Make your own style file"
     ]
    },
    {
     "cell_type": "markdown",
     "metadata": {},
     "source": [
      "Just like the matplotlibrc file, the easiest way to make your own style file is to copy an existing one, place it in your matplotlib user directory, and edit at will."
     ]
    },
    {
     "cell_type": "markdown",
     "metadata": {},
     "source": [
      "The style files are located in install_dir/python?.?/site-packages/matplotlib/mpl-data/stylelib"
     ]
    },
    {
     "cell_type": "markdown",
     "metadata": {},
     "source": [
      "mpl defualt style files, see http://matplotlib.org/examples/style_sheets/index.html"
     ]
    },
    {
     "cell_type": "code",
     "collapsed": false,
     "input": [
      "stylelib_path = os.path.join(mpl.get_data_path(), 'stylelib')\n",
      "print 'mpl style path:', stylelib_path\n",
      "print 'mpl style files:', os.listdir(stylelib_path)"
     ],
     "language": "python",
     "metadata": {},
     "outputs": [
      {
       "output_type": "stream",
       "stream": "stdout",
       "text": [
        "mpl style path: /Users/rosenfield/anaconda/lib/python2.7/site-packages/matplotlib/mpl-data/stylelib\n",
        "mpl style files: [u'bmh.mplstyle', u'dark_background.mplstyle', u'fivethirtyeight.mplstyle', u'ggplot.mplstyle', u'grayscale.mplstyle']\n"
       ]
      }
     ],
     "prompt_number": 13
    },
    {
     "cell_type": "markdown",
     "metadata": {},
     "source": [
      "Open them, check them out, copy your favorite to the directory keeping the .mplstyle file extension\n",
      "\n",
      "~/.matplotlib/stylelib/[YOUR_CHOSEN_NAME].mplstyle <br />\n",
      "<b> NOTE: ~/.matplotlib/stylelib/ files overide those in mpl-data/stylelib of the same name </b>\n"
     ]
    },
    {
     "cell_type": "code",
     "collapsed": false,
     "input": [
      "# Quick check if you may need to create the directory stylelib\n",
      "user_stylelib_path = os.path.join(os.environ['HOME'], '.matplotlib', 'stylelib')\n",
      "directory_check(user_stylelib_path)"
     ],
     "language": "python",
     "metadata": {},
     "outputs": [
      {
       "output_type": "stream",
       "stream": "stdout",
       "text": [
        "/Users/rosenfield/.matplotlib/stylelib exists\n"
       ]
      }
     ],
     "prompt_number": 57
    },
    {
     "cell_type": "markdown",
     "metadata": {},
     "source": [
      "In the terminal, copy one of these to your user directory "
     ]
    },
    {
     "cell_type": "code",
     "collapsed": false,
     "input": [
      "# for copy and paste ease, here are the full paths\n",
      "for s in os.listdir(stylelib_path):\n",
      "    print os.path.join(stylelib_path, s)"
     ],
     "language": "python",
     "metadata": {},
     "outputs": [
      {
       "output_type": "stream",
       "stream": "stdout",
       "text": [
        "/Users/rosenfield/anaconda/lib/python2.7/site-packages/matplotlib/mpl-data/stylelib/bmh.mplstyle\n",
        "/Users/rosenfield/anaconda/lib/python2.7/site-packages/matplotlib/mpl-data/stylelib/dark_background.mplstyle\n",
        "/Users/rosenfield/anaconda/lib/python2.7/site-packages/matplotlib/mpl-data/stylelib/fivethirtyeight.mplstyle\n",
        "/Users/rosenfield/anaconda/lib/python2.7/site-packages/matplotlib/mpl-data/stylelib/ggplot.mplstyle\n",
        "/Users/rosenfield/anaconda/lib/python2.7/site-packages/matplotlib/mpl-data/stylelib/grayscale.mplstyle\n"
       ]
      }
     ],
     "prompt_number": 58
    },
    {
     "cell_type": "code",
     "collapsed": false,
     "input": [
      "# DEMO\n",
      "# plt.style.use('presentation')"
     ],
     "language": "python",
     "metadata": {},
     "outputs": []
    },
    {
     "cell_type": "heading",
     "level": 2,
     "metadata": {},
     "source": [
      "Backends"
     ]
    },
    {
     "cell_type": "markdown",
     "metadata": {},
     "source": [
      "(IMO this is an advanced topic) Read more here\n",
      "http://matplotlib.org/faq/usage_faq.html#what-is-a-backend<br />\n",
      "\n",
      "Real quickly, if you need to run a python script over ssh you might not want plots to be popping up, especially if you don't have X forwarding enabled. In these cases, specify the backend as \"Agg\".\n",
      "\n",
      "You must put this statement above any other matplotlib import"
     ]
    },
    {
     "cell_type": "code",
     "collapsed": false,
     "input": [
      "import matplotlib as mpl\n",
      "mpl.use('Agg')"
     ],
     "language": "python",
     "metadata": {},
     "outputs": [],
     "prompt_number": 1
    },
    {
     "cell_type": "heading",
     "level": 1,
     "metadata": {},
     "source": [
      "Resources"
     ]
    },
    {
     "cell_type": "heading",
     "level": 2,
     "metadata": {},
     "source": [
      "Matplotlib plotting Gallaries"
     ]
    },
    {
     "cell_type": "markdown",
     "metadata": {},
     "source": [
      "+ http://matplotlib.org/gallery.html\n",
      "+ http://www.labri.fr/perso/nrougier/coding/gallery/\n",
      "+ http://www.astroml.org/examples/index.html"
     ]
    },
    {
     "cell_type": "heading",
     "level": 2,
     "metadata": {},
     "source": [
      "More on matplotlib styles"
     ]
    },
    {
     "cell_type": "markdown",
     "metadata": {},
     "source": [
      "+ http://matplotlib.org/examples/style_sheets/index.html\n",
      "+ http://stanford.edu/~mwaskom/software/seaborn/index.html\n",
      "<br />and a cool example using seaborn:\n",
      "+ http://nxn.se/post/97650612370/high-contrast-stacked-distribution-plots"
     ]
    },
    {
     "cell_type": "heading",
     "level": 2,
     "metadata": {},
     "source": [
      "Pythonic access to color palettes"
     ]
    },
    {
     "cell_type": "markdown",
     "metadata": {},
     "source": [
      "+ http://matplotlib.org/users/colormaps.html\n",
      "+ http://nbviewer.ipython.org/github/jiffyclub/brewer2mpl/blob/master/demo/brewer2mpl_maps.ipynb\n",
      "    "
     ]
    },
    {
     "cell_type": "heading",
     "level": 2,
     "metadata": {},
     "source": [
      "Simulate colorblindness "
     ]
    },
    {
     "cell_type": "markdown",
     "metadata": {},
     "source": [
      "+ http://www.vischeck.com"
     ]
    },
    {
     "cell_type": "heading",
     "level": 2,
     "metadata": {},
     "source": [
      "Find color palettes"
     ]
    },
    {
     "cell_type": "markdown",
     "metadata": {},
     "source": [
      "+ http://colrd.com\n",
      "+ http://www.colourlovers.com"
     ]
    },
    {
     "cell_type": "heading",
     "level": 2,
     "metadata": {},
     "source": [
      "General Python Resources"
     ]
    },
    {
     "cell_type": "markdown",
     "metadata": {},
     "source": [
      "+ http://docs.python-guide.org/en/latest/ \n",
      "<br /> Especially, \n",
      "+ http://docs.python-guide.org/en/latest/writing/style/#general-concepts"
     ]
    },
    {
     "cell_type": "heading",
     "level": 2,
     "metadata": {},
     "source": [
      "Python tutorials"
     ]
    },
    {
     "cell_type": "markdown",
     "metadata": {},
     "source": [
      "+ http://learnpythonthehardway.org/book/intro.html"
     ]
    },
    {
     "cell_type": "heading",
     "level": 1,
     "metadata": {},
     "source": [
      "Extra"
     ]
    },
    {
     "cell_type": "heading",
     "level": 2,
     "metadata": {},
     "source": [
      "Click on cmd"
     ]
    },
    {
     "cell_type": "code",
     "collapsed": false,
     "input": [],
     "language": "python",
     "metadata": {},
     "outputs": []
    }
   ],
   "metadata": {}
  }
 ]
}