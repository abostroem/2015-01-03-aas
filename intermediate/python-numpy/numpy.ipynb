{
 "metadata": {
  "name": "numpy"
 },
 "nbformat": 3,
 "nbformat_minor": 0,
 "worksheets": [
  {
   "cells": [
    {
     "cell_type": "markdown",
     "metadata": {},
     "source": [
      "# Introduction to Numpy\n",
      "[Numpy](http://numpy.scipy.org/) is the fundamental library for scientific computing in Python. It contains list like objects that work like arrays, matrices, and data tables. This is how scientists typically expect data to behave. Numpy also provides linear algebra, Fourier transforms, random number generation, and tools for integrating C/C++ and Fortran code.\n",
      "\n",
      "[Matplotlib](http://matplotlib.org/) is the reigning library for 2D (with budding support for 3D) scientific plotting in Python. It produces publication quality figures in a variety of hardcopy formats and interactive environments across platforms.  Between Numpy and Matplotlib, much of MATLAB's functionality can be replaced with Python.\n",
      "\n",
      "If you primarily want to work with tables of data, [Pandas](pandas), which depends on Numpy, is probably the module that you want to start with."
     ]
    },
    {
     "cell_type": "markdown",
     "metadata": {},
     "source": [
      "## Why Numpy?\n",
      "\n",
      "Python was never designed originally for scientific computing, and contains many high-level abstractions necessary to enable its enormously flexible object-oriented interface.  In Python, storing most integers requires more than just 4-8 bytes.  It also requires at least a couple pointers per-integer.  Performing a calculation on two numbers requires one or two bytecode operations, each of which can take dozens of CPU instructions for each pass through the Python eval loop.  And when it comes to looping and index operations of Python lists the situation is even more dire.\n",
      "\n",
      "### A basic example\n",
      "\n",
      "`Z = A + B * C`\n",
      "\n",
      "In pure Python:"
     ]
    },
    {
     "cell_type": "code",
     "collapsed": false,
     "input": [
      "# Create 3 lists of a million ints\n",
      "A = range(1000000)\n",
      "B = range(1000000)\n",
      "C = range(1000000)"
     ],
     "language": "python",
     "metadata": {},
     "outputs": [],
     "prompt_number": 2
    },
    {
     "cell_type": "code",
     "collapsed": false,
     "input": [
      "# Time doing the operation with a for loop\n",
      "import time\n",
      "\n",
      "start_time = time.time()\n",
      "\n",
      "Z = []\n",
      "for idx in xrange(len(A)):\n",
      "    Z.append(A[idx] + B[idx] * C[idx])\n",
      "    \n",
      "print 'Took', time.time() - start_time, 'seconds'\n",
      "    \n",
      "# print Z  # DON'T DO THIS!  It will print all 10000 array items"
     ],
     "language": "python",
     "metadata": {},
     "outputs": [
      {
       "output_type": "stream",
       "stream": "stdout",
       "text": [
        "Took 0.409924983978 seconds\n"
       ]
      }
     ],
     "prompt_number": 3
    },
    {
     "cell_type": "code",
     "collapsed": false,
     "input": [
      "# Create 3 Numpy arrays with a million ints\n",
      "\n",
      "import numpy as np\n",
      "\n",
      "A = np.arange(1000000)\n",
      "B = np.arange(1000000)\n",
      "C = np.arange(1000000)"
     ],
     "language": "python",
     "metadata": {},
     "outputs": [],
     "prompt_number": 13
    },
    {
     "cell_type": "markdown",
     "metadata": {},
     "source": [
      "Using Numpy:"
     ]
    },
    {
     "cell_type": "code",
     "collapsed": false,
     "input": [
      "# Time the operation with Numpy\n",
      "start_time = time.time()\n",
      "\n",
      "Z = A + B * C\n",
      "\n",
      "print 'Took', time.time() - start_time, 'seconds'"
     ],
     "language": "python",
     "metadata": {},
     "outputs": [
      {
       "output_type": "stream",
       "stream": "stdout",
       "text": [
        "Took 0.0198860168457 seconds\n"
       ]
      }
     ],
     "prompt_number": 14
    },
    {
     "cell_type": "code",
     "collapsed": false,
     "input": [
      "# Print the result\n",
      "Z = A + B * C\n",
      "print Z"
     ],
     "language": "python",
     "metadata": {},
     "outputs": [
      {
       "output_type": "stream",
       "stream": "stdout",
       "text": [
        "[           0            2            6 ..., 999995000006 999997000002\n",
        " 999999000000]\n"
       ]
      }
     ],
     "prompt_number": 15
    },
    {
     "cell_type": "markdown",
     "metadata": {},
     "source": [
      "In addition to just *looking* simpler, the Numpy version is significantly faster. The for loop disappears completely and is replaced by vectorized array operations."
     ]
    },
    {
     "cell_type": "markdown",
     "metadata": {},
     "source": [
      "### Memory Usage\n",
      "3 x 1000000 lists of Python ints: ~96 MB\n",
      "\n",
      "3 x 1000000 Numpy arrays of 64-bit ints: ~32 MB"
     ]
    },
    {
     "cell_type": "markdown",
     "metadata": {},
     "source": [
      "### More human-friendly interfaces to numerical libraries\n",
      "\n",
      "<img src=\"http://software-carpentry.org/5_0/img/numpy/caxpy.png\" />"
     ]
    },
    {
     "cell_type": "markdown",
     "metadata": {},
     "source": [
      "## Numpy and Matplotlib"
     ]
    },
    {
     "cell_type": "code",
     "collapsed": false,
     "input": [
      "%pylab inline\n",
      "import numpy as np\n",
      "\n",
      "ax = subplot(111)\n",
      "x = np.arange(0.0, 5.0, 0.01)\n",
      "y = np.cos(x * np.pi)\n",
      "lines, = plot(x, y, lw=3)\n",
      "ylim(-1.5, 1.5)\n",
      "show()"
     ],
     "language": "python",
     "metadata": {},
     "outputs": []
    },
    {
     "cell_type": "markdown",
     "metadata": {},
     "source": [
      "## Numpy Array Basics\n",
      "#### Creating a Numpy array"
     ]
    },
    {
     "cell_type": "code",
     "collapsed": false,
     "input": [
      "# Create an array from a list of ints and show the array\n",
      "import numpy\n",
      "\n",
      "vals = [1, 2, 3]\n",
      "arr = numpy.array(vals)\n",
      "arr"
     ],
     "language": "python",
     "metadata": {},
     "outputs": [
      {
       "output_type": "pyout",
       "prompt_number": 3,
       "text": [
        "array([1, 2, 3])"
       ]
      }
     ],
     "prompt_number": 3
    },
    {
     "cell_type": "code",
     "collapsed": false,
     "input": [
      "# Print the array--notice any difference?\n",
      "print arr"
     ],
     "language": "python",
     "metadata": {},
     "outputs": [
      {
       "output_type": "stream",
       "stream": "stdout",
       "text": [
        "[1 2 3]\n"
       ]
      }
     ],
     "prompt_number": 4
    },
    {
     "cell_type": "markdown",
     "metadata": {},
     "source": [
      "Unlike Python lists, NumPy arrays are homogeneous: all values must have exactly the same type. This allows values to be packed together as shown here, which saves memory and is much faster to process.\n",
      "\n",
      "<img src=\"http://software-carpentry.org/5_0/img/numpy/list-vs-array.png\" />\n",
      "\n",
      "If we give NumPy initial values of different types, it finds the most general type and stores all the values in the array using that type. For example, if we construct an array from an integer and a float, the array's values are both floats: "
     ]
    },
    {
     "cell_type": "code",
     "collapsed": false,
     "input": [
      "# Create an array from a heterogeneous list\n",
      "arr = numpy.array([1, 2.3])\n",
      "arr"
     ],
     "language": "python",
     "metadata": {},
     "outputs": [
      {
       "output_type": "pyout",
       "prompt_number": 5,
       "text": [
        "array([ 1. ,  2.3])"
       ]
      }
     ],
     "prompt_number": 5
    },
    {
     "cell_type": "markdown",
     "metadata": {},
     "source": [
      "If we want a specific type, we can pass an optional argument to array called dtype (for \"data type\"). For example, we can tell NumPy to create an array of 32-bit floats even though all the initial values are integers: "
     ]
    },
    {
     "cell_type": "code",
     "collapsed": false,
     "input": [
      "# Create an array of floats from a list of ints\n",
      "numpy.array([1, 2, 3, 4], dtype=numpy.float32)"
     ],
     "language": "python",
     "metadata": {},
     "outputs": []
    },
    {
     "cell_type": "markdown",
     "metadata": {},
     "source": [
      "NumPy provides many basic numerical data types, each of which is identified by a name like float32.\n",
      "The three called `int`, `float`, and `complex` are whatever the underlying hardware uses as its native type: this will usually be 32 or 64 bit, but 128-bit machines are starting to appear.\n",
      "\n",
      "Note: Changing the dtype of an array is usually not going to yield anything useful.  Instead use `arr.astype()` or similar:"
     ]
    },
    {
     "cell_type": "code",
     "collapsed": false,
     "input": [
      "# Create arrays of ints, floats, and complex from lists of ints\n",
      "print numpy.array([1, 2, 3, 4], dtype=numpy.int)\n",
      "print numpy.array([1, 2, 3, 4], dtype=numpy.float)\n",
      "print numpy.array([1, 2, 3, 4], dtype=numpy.complex)"
     ],
     "language": "python",
     "metadata": {},
     "outputs": []
    },
    {
     "cell_type": "code",
     "collapsed": false,
     "input": [
      "# Create an array of ints and show the dtype\n",
      "arr = numpy.array([1, 2, 3, 4], dtype=numpy.int32)\n",
      "print arr\n",
      "# Try reassigning the dtype to float\n",
      "arr.dtype = numpy.float32\n",
      "print arr\n",
      "# Restore the correct dtype and use .astype() instead\n",
      "arr.dtype = numpy.int32\n",
      "print arr.astype(numpy.float32)"
     ],
     "language": "python",
     "metadata": {},
     "outputs": []
    },
    {
     "cell_type": "markdown",
     "metadata": {},
     "source": [
      "There are many other ways to create arrays besides calling array. For example, the zeros function takes a tuple specifying array dimensions as an argument and returns an array of zeros of that size: "
     ]
    },
    {
     "cell_type": "code",
     "collapsed": false,
     "input": [
      "# Create a 2x3 array of zeros\n",
      "z = numpy.zeros((2, 3))\n",
      "z"
     ],
     "language": "python",
     "metadata": {},
     "outputs": []
    },
    {
     "cell_type": "markdown",
     "metadata": {},
     "source": [
      "The array's dtype defaults `float` unless something else is specified with the `dtype=` argument. This is typical in most functions in Numpy that create/return arrays."
     ]
    },
    {
     "cell_type": "code",
     "collapsed": false,
     "input": [
      "# Create a 2x3 array of integer zeros\n",
      "z = numpy.zeros((2, 3), dtype=numpy.int32)\n",
      "z"
     ],
     "language": "python",
     "metadata": {},
     "outputs": []
    },
    {
     "cell_type": "code",
     "collapsed": false,
     "input": [
      "# The ones and identity functions work much the same way:\n",
      "numpy.ones((2, 3))\n",
      "numpy.identity(2)"
     ],
     "language": "python",
     "metadata": {},
     "outputs": [
      {
       "output_type": "pyout",
       "prompt_number": 6,
       "text": [
        "array([[ 1.,  0.],\n",
        "       [ 0.,  1.]])"
       ]
      }
     ],
     "prompt_number": 6
    },
    {
     "cell_type": "markdown",
     "metadata": {},
     "source": [
      "It's also possible to create NumPy arrays without filling them with data using the empty function. This function does not initialize the values, so the array contains whatever bits were lying around in memory when it was called:"
     ]
    },
    {
     "cell_type": "code",
     "collapsed": false,
     "input": [
      "# Create a 2x2 empty array\n",
      "arr = numpy.empty((2, 2))\n",
      "arr"
     ],
     "language": "python",
     "metadata": {},
     "outputs": []
    },
    {
     "cell_type": "markdown",
     "metadata": {},
     "source": [
      "This might not seem particularly useful, but if a program is going to overwrite an array immediately after creating it, perhaps by filling it with the result of some computation, there's no point taking the time to fill it with zeroes or ones."
     ]
    },
    {
     "cell_type": "code",
     "collapsed": false,
     "input": [
      "# Another frequently useful array creation function is arange:\n",
      "\n",
      "arr = np.arange(10, 20)\n",
      "print arr\n",
      "arr = np.arange(10, 20, 0.1)\n",
      "print arr"
     ],
     "language": "python",
     "metadata": {},
     "outputs": []
    },
    {
     "cell_type": "code",
     "collapsed": false,
     "input": [
      "# linspace can be used to create an n-sized array of evenly spaced samples in some range:\n",
      "\n",
      "arr = np.linspace(0, 100, 20)\n",
      "print arr\n",
      "\n",
      "axis([-1, 101, -1, 101])\n",
      "xlabel('foo')\n",
      "lines, = plot(arr, arr, 'ro')\n",
      "show()\n",
      "\n",
      "# logspace \n",
      "arr = np.logspace(0, 1, 20, base=10)\n",
      "print arr\n",
      "axis([0, 11, 0, 11])\n",
      "lines, = plot(arr, arr, 'go')\n",
      "show()"
     ],
     "language": "python",
     "metadata": {},
     "outputs": []
    },
    {
     "cell_type": "markdown",
     "metadata": {},
     "source": [
      "#### Creating a 2D array"
     ]
    },
    {
     "cell_type": "code",
     "collapsed": false,
     "input": [
      "# Create a 3x3 array\n",
      "\n",
      "import numpy as np\n",
      "\n",
      "example_array = np.array([[1, 2, 3], [4, 5, 6], [7, 8, 9]])\n",
      "example_array"
     ],
     "language": "python",
     "metadata": {},
     "outputs": []
    },
    {
     "cell_type": "markdown",
     "metadata": {},
     "source": [
      "As with everything else in Python, assigning an array to a variable does not copy its data. Instead, it creates an alias for the original data. For example, let's create an array of ones and assign it to a variable `first`, then assign the value of `first` to `second`: "
     ]
    },
    {
     "cell_type": "code",
     "collapsed": false,
     "input": [
      "# Variable assignment does not *copy* data in array; it just creates a new pointer to that array\n",
      "first = numpy.ones((2, 2))\n",
      "second = first\n",
      "print first"
     ],
     "language": "python",
     "metadata": {},
     "outputs": []
    },
    {
     "cell_type": "code",
     "collapsed": false,
     "input": [
      "# But index assignment updates elements in an array\n",
      "\n",
      "second[0, 0] = 9\n",
      "print first"
     ],
     "language": "python",
     "metadata": {},
     "outputs": [
      {
       "ename": "NameError",
       "evalue": "name 'second' is not defined",
       "output_type": "pyerr",
       "traceback": [
        "\u001b[1;31m---------------------------------------------------------------------------\u001b[0m\n\u001b[1;31mNameError\u001b[0m                                 Traceback (most recent call last)",
        "\u001b[1;32m<ipython-input-7-6f2928d17c57>\u001b[0m in \u001b[0;36m<module>\u001b[1;34m()\u001b[0m\n\u001b[0;32m      1\u001b[0m \u001b[1;33m\u001b[0m\u001b[0m\n\u001b[1;32m----> 2\u001b[1;33m \u001b[0msecond\u001b[0m\u001b[1;33m[\u001b[0m\u001b[1;36m0\u001b[0m\u001b[1;33m,\u001b[0m \u001b[1;36m0\u001b[0m\u001b[1;33m]\u001b[0m \u001b[1;33m=\u001b[0m \u001b[1;36m9\u001b[0m\u001b[1;33m\u001b[0m\u001b[0m\n\u001b[0m\u001b[0;32m      3\u001b[0m \u001b[1;32mprint\u001b[0m \u001b[0mfirst\u001b[0m\u001b[1;33m\u001b[0m\u001b[0m\n",
        "\u001b[1;31mNameError\u001b[0m: name 'second' is not defined"
       ]
      }
     ],
     "prompt_number": 7
    },
    {
     "cell_type": "markdown",
     "metadata": {},
     "source": [
      "If we really want a copy of the array so that we can make changes without affecting the original data, we can use the copy method:"
     ]
    },
    {
     "cell_type": "code",
     "collapsed": false,
     "input": [
      "# If we really want a copy we can use the .copy() method\n",
      "first = numpy.ones((2, 2))\n",
      "print first\n",
      "second = first.copy()\n",
      "second[0, 0]\n",
      "print first"
     ],
     "language": "python",
     "metadata": {},
     "outputs": []
    },
    {
     "cell_type": "markdown",
     "metadata": {},
     "source": [
      "Arrays have properties as well as methods. We have already met dtype, which is the array's data type. Another is shape, which is a tuple of the array's size along each dimension: "
     ]
    },
    {
     "cell_type": "code",
     "collapsed": false,
     "input": [
      "# Show the shape\n",
      "\n",
      "print first\n",
      "print first.shape"
     ],
     "language": "python",
     "metadata": {},
     "outputs": []
    },
    {
     "cell_type": "markdown",
     "metadata": {},
     "source": [
      "It is possible to modify an array's shape, but be careful that the number of elements in the array is still the same:"
     ]
    },
    {
     "cell_type": "code",
     "collapsed": false,
     "input": [
      "# Modify the shape with a valid shape\n",
      "\n",
      "first.shape = (4, 1)\n",
      "first"
     ],
     "language": "python",
     "metadata": {},
     "outputs": []
    },
    {
     "cell_type": "code",
     "collapsed": false,
     "input": [
      "# Modify the shape with an invalid shape\n",
      "\n",
      "first.shape = (3, 2)\n",
      "first"
     ],
     "language": "python",
     "metadata": {},
     "outputs": []
    },
    {
     "cell_type": "markdown",
     "metadata": {},
     "source": [
      "Notice that there are no parentheses after `shape`: it is a piece of data, not a method call. Also note that the tuple in `shape` is exactly what we pass into functions like `zeros` to create new arrays, which makes it easy to reproduce the shape of existing data:"
     ]
    },
    {
     "cell_type": "code",
     "collapsed": false,
     "input": [
      "# You can use .shape to define new arrays with that shape\n",
      "blank = np.zeros(first.shape)\n",
      "blank"
     ],
     "language": "python",
     "metadata": {},
     "outputs": []
    },
    {
     "cell_type": "markdown",
     "metadata": {},
     "source": [
      "Another data members include `size`, which is the total number of elements in the array, and `nbytes` which is the total physical bytes of memory used by the array. As the code below shows, `size` is simply the product of the array's lengths along its dimensions, and `nbytes` is the product of `size` and the size of the data type:"
     ]
    },
    {
     "cell_type": "code",
     "collapsed": false,
     "input": [
      "# Arrays also have .size and .nbytes attributes\n",
      "block = numpy.zeros((4, 7, 3))\n",
      "print 'size:', block.size\n",
      "print 'nbytes:', block.nbytes"
     ],
     "language": "python",
     "metadata": {},
     "outputs": []
    },
    {
     "cell_type": "markdown",
     "metadata": {},
     "source": [
      "There are also special methods for reshaping the array in common ways. We can rearrange the data in an array using the `transpose` method, which flips the array on all its axes. This does not actually move data around in memory. Instead, it creates an alias that appears to have the values stored differently:"
     ]
    },
    {
     "cell_type": "code",
     "collapsed": false,
     "input": [
      "# .transpose() creates a *view* of the same data but transposed\n",
      "\n",
      "arr = numpy.array([[1, 2, 3],\n",
      "                   [4, 5, 6]])\n",
      "\n",
      "print arr.transpose()\n",
      "print\n",
      "print 'The original array is unchanged:'\n",
      "print arr"
     ],
     "language": "python",
     "metadata": {},
     "outputs": [
      {
       "output_type": "stream",
       "stream": "stdout",
       "text": [
        "[[1 4]\n",
        " [2 5]\n",
        " [3 6]]\n",
        "\n",
        "The original array is unchanged:\n",
        "[[1 2 3]\n",
        " [4 5 6]]\n"
       ]
      }
     ],
     "prompt_number": 8
    },
    {
     "cell_type": "markdown",
     "metadata": {},
     "source": [
      "This is a common enough operation (especially on matrices) that `arr.T` can be used as shorthand for `arr.transpose()`.  Note that this is not a function call with parentheses after it:"
     ]
    },
    {
     "cell_type": "code",
     "collapsed": false,
     "input": [
      "# We can also use arr.T\n",
      "print arr.T"
     ],
     "language": "python",
     "metadata": {},
     "outputs": [
      {
       "output_type": "stream",
       "stream": "stdout",
       "text": [
        "[[1 4]\n",
        " [2 5]\n",
        " [3 6]]\n"
       ]
      }
     ],
     "prompt_number": 9
    },
    {
     "cell_type": "markdown",
     "metadata": {},
     "source": [
      "The `ravel` method does something similar: it creates a one-dimensional alias for the original data. As you'd expect, the result's shape has a single value, which is the number of elements we started with."
     ]
    },
    {
     "cell_type": "code",
     "collapsed": false,
     "input": [
      "# .ravel() creates a 1-dimensional view of the original data\n",
      "print arr.ravel()\n",
      "print \n",
      "print 'The original array is still unchanged:'\n",
      "print arr"
     ],
     "language": "python",
     "metadata": {},
     "outputs": [
      {
       "output_type": "stream",
       "stream": "stdout",
       "text": [
        "[1 2 3 4 5 6]\n",
        "\n",
        "The original array is still unchanged:\n",
        "[[1 2 3]\n",
        " [4 5 6]]\n"
       ]
      }
     ],
     "prompt_number": 10
    },
    {
     "cell_type": "markdown",
     "metadata": {},
     "source": [
      "But even though the array returned by `ravel()` has a different shape it's worth emphasizing again that it is a *view* of the original array, and that modifying its contents will modify the original array too:"
     ]
    },
    {
     "cell_type": "code",
     "collapsed": false,
     "input": [
      "# Remember, the result of .ravel() is just a view; updating the array returned by\n",
      "# .ravel() updates the original array data too\n",
      "arr.ravel()[3] = 9\n",
      "print arr"
     ],
     "language": "python",
     "metadata": {},
     "outputs": []
    },
    {
     "cell_type": "markdown",
     "metadata": {},
     "source": [
      "What order do raveled values appear in? Let's start by thinking about a 2\u00d74 array `A`. It looks two-dimensional, but the computer's memory is 1-dimensional: each location is identified by a single integer address. Any program that works with multi-dimensional data must therefore decide how to lay out those values. \n",
      "\n",
      "<img src=\"http://software-carpentry.org/5_0/img/numpy/logical-layout.png\" />\n",
      "\n",
      "One possibility is *row-major order*, which concatenates the rows. This is what C uses, and since Python was originally written in C, it uses the same convention: \n",
      "\n",
      "<img src=\"http://software-carpentry.org/5_0/img/numpy/row-major-layout.png\" />\n",
      "\n",
      "In contrast, column-major order concatenates the columns. Fortran does this, and MATLAB follows along.\n",
      "\n",
      "<img src=\"http://software-carpentry.org/5_0/img/numpy/column-major-layout.png\" />\n",
      "\n",
      "There's no real difference in performance or usability, but the differences cause headaches when data has to be moved from one programming language to another. For example, if your Python code wants to call an eigenvalue function written in Fortran, you will probably have to rearrange the data, just as you have to be careful about 0-based versus 1-based indexing. Note that you cannot use the array's `transpose` method to do this, since, as explained earlier, it doesn't actually move data around.\n",
      "\n",
      "It's also possible that if your software is specifically tuned to operate on an array one row at a time or one column at a time it may be desireable to have the data arranged in memory so that it's accessed linearly. But this is the kind of performance tuning you won't need until and unless you *know* you need it.  For the most part stick with row-major order (the default in Numpy) and don't worry about it."
     ]
    },
    {
     "cell_type": "markdown",
     "metadata": {},
     "source": [
      "If we really want to change the physical size of the data, we have to use array.resize. This works in place, i.e., it modifies the array, rather than returning a new alias: "
     ]
    },
    {
     "cell_type": "code",
     "collapsed": false,
     "input": [
      "# Resize a larger array to a smaller array\n",
      "\n",
      "block = numpy.arange(9)\n",
      "print block\n",
      "print\n",
      "\n",
      "block.resize(2, 2)\n",
      "print block\n"
     ],
     "language": "python",
     "metadata": {},
     "outputs": [
      {
       "output_type": "stream",
       "stream": "stdout",
       "text": [
        "[0 1 2 3 4 5 6 7 8]\n",
        "\n",
        "[[0 1]\n",
        " [2 3]]\n"
       ]
      }
     ],
     "prompt_number": 12
    },
    {
     "cell_type": "markdown",
     "metadata": {},
     "source": [
      "As the example above shows, when we resize a 3\u00d73 array to be 2\u00d72, we get the values that were in the first two rows and columns. (And note that once again, the new dimensions are passed directly, rather than in a tuple.)\n",
      "\n",
      "If we enlarge the array by resizing, the new locations are assigned zero. Which locations are \"new\" is determined by the raveling order of the array; as the example below shows, the existing values are packed into the first part of memory, *not* into the upper left corner of the logical matrix: "
     ]
    },
    {
     "cell_type": "code",
     "collapsed": false,
     "input": [
      "# Resize a smaller array to a larger array\n",
      "small = numpy.ones((2, 2))\n",
      "print small\n",
      "print\n",
      "\n",
      "large = small.copy()\n",
      "large.resize(3, 3)\n",
      "print large"
     ],
     "language": "python",
     "metadata": {},
     "outputs": [
      {
       "output_type": "stream",
       "stream": "stdout",
       "text": [
        "[[ 1.  1.]\n",
        " [ 1.  1.]]\n",
        "\n",
        "[[ 1.  1.  1.]\n",
        " [ 1.  0.  0.]\n",
        " [ 0.  0.  0.]]\n"
       ]
      }
     ],
     "prompt_number": 20
    },
    {
     "cell_type": "markdown",
     "metadata": {},
     "source": [
      "It is, however, possible to fill the upper left corner by first allocating a new array of zeros and using slice assignment:"
     ]
    },
    {
     "cell_type": "code",
     "collapsed": false,
     "input": [
      "# Fill a corner of an array from a smaller array\n",
      "large = numpy.zeros((3, 3))\n",
      "large[:2, :2] = small\n",
      "print large"
     ],
     "language": "python",
     "metadata": {},
     "outputs": [
      {
       "output_type": "stream",
       "stream": "stdout",
       "text": [
        "[[ 1.  1.  0.]\n",
        " [ 1.  1.  0.]\n",
        " [ 0.  0.  0.]]\n"
       ]
      }
     ],
     "prompt_number": 21
    },
    {
     "cell_type": "markdown",
     "metadata": {},
     "source": [
      "### Indexing Numpy Arrays\n",
      "\n",
      "Now we'll take a closer look at some of the ways we can index arrays. It may seem like a small topic at first, but clever indexing allows us to avoid writing loops, which reduces the size of our code and makes it more efficient.\n",
      "\n",
      "Arrays are subscripted by integers, just like lists and other sequences, so they can be sliced like other sequences as well. For example, if `block` is the array shown below, then `block[0:3, 0:2]` selects its first three rows and the first two columns: \n",
      "\n",
      "<img src=\"http://software-carpentry.org/5_0/img/numpy/slice-2d.png\" />\n",
      "\n",
      "The comma syntax (`[X, Y]`) for indexing multi-dimensional arrays was lobbied for and eventually added to the Python language by the scientific community.  Although it is possible to `block[0:3][0:2]` this is comparatively inefficient, especially when doing many array indexing operations. (Why?)"
     ]
    },
    {
     "cell_type": "markdown",
     "metadata": {},
     "source": [
      "As with other sliceable types, it's possible to assign to slices (as we saw a bit earlier). For example, we can assign zero to columns 1 and 2 in row 1 of ``block in a single statement: "
     ]
    },
    {
     "cell_type": "code",
     "collapsed": false,
     "input": [
      "# Assign zero to a slice of the first row\n",
      "block = numpy.array([[10, 20, 30, 40],\n",
      "                     [110, 120, 130, 140],\n",
      "                     [210, 220, 230, 240]])\n",
      "block[0, 1:3] = 0\n",
      "print block"
     ],
     "language": "python",
     "metadata": {},
     "outputs": []
    },
    {
     "cell_type": "markdown",
     "metadata": {},
     "source": [
      "And, as with most other operations (such as `transpose` and `ravel` like I saw earlier), slicing creates an alias rather than immediately copying data: "
     ]
    },
    {
     "cell_type": "code",
     "collapsed": false,
     "input": [
      "# Create a 2D array\n",
      "original = numpy.ones((3, 2))\n",
      "original"
     ],
     "language": "python",
     "metadata": {},
     "outputs": []
    },
    {
     "cell_type": "code",
     "collapsed": false,
     "input": [
      "# Slice a corner of of the array\n",
      "slc = original[0:2, 0:2]\n",
      "slc"
     ],
     "language": "python",
     "metadata": {},
     "outputs": []
    },
    {
     "cell_type": "code",
     "collapsed": false,
     "input": [
      "# Set the values of the slice to zero--the original has changed\n",
      "slc[:, :] = 0\n",
      "original"
     ],
     "language": "python",
     "metadata": {},
     "outputs": []
    },
    {
     "cell_type": "markdown",
     "metadata": {},
     "source": [
      "Notice in the example above how we used `slice[:, :]` to refer to all of the array's elements at once. All of Python's other slicing shortcuts work as well, so that expressions like `original[-2:, 1:]` behave sensibly."
     ]
    },
    {
     "cell_type": "markdown",
     "metadata": {},
     "source": [
      "Slicing on both sides of an assignment is a way to shift data along the axes. If `vector` is a one-dimensional array, then `vector[1:4]` selects locations 1, 2, and 3, while `vector[0:3]` selects locations 0, 1, and 2. Assigning the former to the latter therefore overwrites the lower three values with the upper three, leaving the uppermost value untouched:"
     ]
    },
    {
     "cell_type": "code",
     "collapsed": false,
     "input": [
      "# Assign a slice of a vector to another slice of the same vector\n",
      "vector = numpy.array([10, 20, 30, 40])\n",
      "vector[0:3] = vector[1:4]\n",
      "vector"
     ],
     "language": "python",
     "metadata": {},
     "outputs": []
    },
    {
     "cell_type": "markdown",
     "metadata": {},
     "source": [
      "Compare this with loop-based code that shifts values up or down, and you'll see why most programmers prefer the data-parallel programming model. "
     ]
    },
    {
     "cell_type": "markdown",
     "metadata": {},
     "source": [
      "We co do even more sophisticated things by using a list or an array as a subscript. For example, if `subscript` is a list containing 3, 1, and 2, then `vector[subscript]` creates a new array whose elements are selected from vector in the obvious way: \n",
      "\n",
      "<img src=\"http://software-carpentry.org/5_0/img/numpy/list-subscript.png\" />"
     ]
    },
    {
     "cell_type": "code",
     "collapsed": false,
     "input": [
      "# Create the vector [0, 10, 20, 30] using arange() and *\n",
      "vector = numpy.arange(4) * 10\n",
      "vector"
     ],
     "language": "python",
     "metadata": {},
     "outputs": []
    },
    {
     "cell_type": "code",
     "collapsed": false,
     "input": [
      "# Index with a list of indices\n",
      "subscript = [3, 1, 2]\n",
      "vector[subscript]"
     ],
     "language": "python",
     "metadata": {},
     "outputs": []
    },
    {
     "cell_type": "code",
     "collapsed": false,
     "input": [
      "# It should be emphasized that arbitrary subscripting returns a *copy* of the original array:\n",
      "sub = vector[subscript]\n",
      "sub[:] = 0\n",
      "vector"
     ],
     "language": "python",
     "metadata": {},
     "outputs": []
    },
    {
     "cell_type": "code",
     "collapsed": false,
     "input": [
      "# It is however possible to assignment using an arbitrary subscript\n",
      "subscript = [0, 3]\n",
      "vector[subscript] = 42\n",
      "vector"
     ],
     "language": "python",
     "metadata": {},
     "outputs": []
    },
    {
     "cell_type": "markdown",
     "metadata": {},
     "source": [
      "#### Boolean indexing"
     ]
    },
    {
     "cell_type": "markdown",
     "metadata": {},
     "source": [
      "We can use Boolean masking on the left side of assignment as well, though we have to be careful about its meaning. If we use a mask directly, elements are taken in order from the source on the right and assigned to elements corresponding to True values in the mask: "
     ]
    },
    {
     "cell_type": "code",
     "collapsed": false,
     "input": [
      "# Mask an array [0 1 2 3] with the mask [T F T F]\n",
      "a = numpy.array([0, 1, 2, 3])\n",
      "mask = numpy.array([True, False, True, False])\n",
      "a[mask]"
     ],
     "language": "python",
     "metadata": {},
     "outputs": []
    },
    {
     "cell_type": "code",
     "collapsed": false,
     "input": [
      "# Assign [101 102 103 104] using the mask\n",
      "a[mask] = numpy.array([101, 102, 103, 104])\n",
      "a"
     ],
     "language": "python",
     "metadata": {},
     "outputs": []
    },
    {
     "cell_type": "markdown",
     "metadata": {},
     "source": [
      "<img src=\"http://software-carpentry.org/5_0/img/numpy/mask-assignment-to.png\" />"
     ]
    },
    {
     "cell_type": "code",
     "collapsed": false,
     "input": [
      "# Note: For the above to work the mask must be a Numpy array.\n",
      "# Using a normal Python list of bools returns a different result (Why?)\n",
      "a[[True, False, True, False]]"
     ],
     "language": "python",
     "metadata": {},
     "outputs": []
    },
    {
     "cell_type": "markdown",
     "metadata": {},
     "source": [
      "Operators like `<` and `==` work the way we would expect with arrays, but there is one trick. Python does not allow objects to re-define the meaning of `and`, `or`, and `not`, since they are keywords. The expression `(vector <= 20) and (vector >= 20)` therefore produces an error message instead of selecting elements with exactly the value 20: "
     ]
    },
    {
     "cell_type": "code",
     "collapsed": false,
     "input": [
      "# Give the items <= 20 of [0 10 20 30]\n",
      "vector = numpy.array([0, 10, 20, 30])\n",
      "vector <= 20"
     ],
     "language": "python",
     "metadata": {},
     "outputs": [
      {
       "output_type": "pyout",
       "prompt_number": 25,
       "text": [
        "array([ True,  True,  True, False], dtype=bool)"
       ]
      }
     ],
     "prompt_number": 25
    },
    {
     "cell_type": "code",
     "collapsed": false,
     "input": [
      "# Gives the items <= 20 and > 0\n",
      "(vector <= 20) and (vector > 0)"
     ],
     "language": "python",
     "metadata": {},
     "outputs": [
      {
       "ename": "ValueError",
       "evalue": "The truth value of an array with more than one element is ambiguous. Use a.any() or a.all()",
       "output_type": "pyerr",
       "traceback": [
        "\u001b[1;31m---------------------------------------------------------------------------\u001b[0m\n\u001b[1;31mValueError\u001b[0m                                Traceback (most recent call last)",
        "\u001b[1;32m<ipython-input-26-677b1beaa30c>\u001b[0m in \u001b[0;36m<module>\u001b[1;34m()\u001b[0m\n\u001b[0;32m      1\u001b[0m \u001b[1;31m# Gives the items <= 10 and > 20\u001b[0m\u001b[1;33m\u001b[0m\u001b[1;33m\u001b[0m\u001b[0m\n\u001b[1;32m----> 2\u001b[1;33m \u001b[1;33m(\u001b[0m\u001b[0mvector\u001b[0m \u001b[1;33m<=\u001b[0m \u001b[1;36m10\u001b[0m\u001b[1;33m)\u001b[0m \u001b[1;32mand\u001b[0m \u001b[1;33m(\u001b[0m\u001b[0mvector\u001b[0m \u001b[1;33m>\u001b[0m \u001b[1;36m20\u001b[0m\u001b[1;33m)\u001b[0m\u001b[1;33m\u001b[0m\u001b[0m\n\u001b[0m",
        "\u001b[1;31mValueError\u001b[0m: The truth value of an array with more than one element is ambiguous. Use a.any() or a.all()"
       ]
      }
     ],
     "prompt_number": 26
    },
    {
     "cell_type": "markdown",
     "metadata": {},
     "source": [
      "One way around this is to use functions like `logical_and` and `logical_or`, which combine the elements Boolean arrays like their namesakes: "
     ]
    },
    {
     "cell_type": "code",
     "collapsed": false,
     "input": [
      "# Do the same expression with logical_and\n",
      "numpy.logical_and(vector <= 20, vector > 0)"
     ],
     "language": "python",
     "metadata": {},
     "outputs": [
      {
       "output_type": "pyout",
       "prompt_number": 29,
       "text": [
        "array([False,  True,  True, False], dtype=bool)"
       ]
      }
     ],
     "prompt_number": 29
    },
    {
     "cell_type": "markdown",
     "metadata": {},
     "source": [
      "Another is to use the bitwise and/or operators `&` and `|`:"
     ]
    },
    {
     "cell_type": "code",
     "collapsed": false,
     "input": [
      "# Do the same expression with &\n",
      "(vector <= 20) & (vector > 0)"
     ],
     "language": "python",
     "metadata": {},
     "outputs": [
      {
       "output_type": "pyout",
       "prompt_number": 30,
       "text": [
        "array([False,  True,  True, False], dtype=bool)"
       ]
      }
     ],
     "prompt_number": 30
    },
    {
     "cell_type": "code",
     "collapsed": false,
     "input": [
      "# Since comparison operators return an array of bools, a comparison expression\n",
      "# can also be used to index an array\n",
      "\n",
      "array1 = np.array([1, 1, 1, 2, 2, 2, 1])\n",
      "array2 = np.array([1, 2, 3, 4, 5, 6, 7])\n",
      "array2[array1 == 1]"
     ],
     "language": "python",
     "metadata": {},
     "outputs": []
    },
    {
     "cell_type": "markdown",
     "metadata": {},
     "source": [
      "There are many other slick ways to index and get values from Numpy arrays, such as `array.where()`, `array.select()`, and `array.choose()`.  Some of them can get very complex and difficult to understand, but have their uses--you can read more about them and other indexing tricks in the Numpy documentation."
     ]
    },
    {
     "cell_type": "markdown",
     "metadata": {},
     "source": [
      "## Math\n",
      "### Arrays\n",
      "Math on arrays is vectorized and behaves more or less like most scientists would expect:"
     ]
    },
    {
     "cell_type": "code",
     "collapsed": false,
     "input": [
      "array1 = np.array([1, 1, 1, 2, 2, 2, 1])\n",
      "array2 = np.array([1, 2, 3, 4, 5, 6, 7])\n",
      "\n",
      "array1 * 2 + 1"
     ],
     "language": "python",
     "metadata": {},
     "outputs": []
    },
    {
     "cell_type": "code",
     "collapsed": false,
     "input": [
      "# Multiply array1 and array2\n",
      "array1 * array2"
     ],
     "language": "python",
     "metadata": {},
     "outputs": []
    },
    {
     "cell_type": "markdown",
     "metadata": {},
     "source": [
      "But that doesn't mean they behave exactly like the matrices that mathematicians use. For example, let's create an array, and then multiply it by itself: "
     ]
    },
    {
     "cell_type": "code",
     "collapsed": false,
     "input": [
      "# Create a 2x2 array and multiply it with itself\n",
      "arr = numpy.array([[1, 2], [3, 4]])\n",
      "arr * arr"
     ],
     "language": "python",
     "metadata": {},
     "outputs": [
      {
       "output_type": "pyout",
       "prompt_number": 34,
       "text": [
        "array([[ 1,  4],\n",
        "       [ 9, 16]])"
       ]
      }
     ],
     "prompt_number": 34
    },
    {
     "cell_type": "markdown",
     "metadata": {},
     "source": [
      "NumPy does the operation elementwise, instead of doing \"real\" matrix multiplication. On the bright side, elementwise operation means that array addition works as you would expect: "
     ]
    },
    {
     "cell_type": "code",
     "collapsed": false,
     "input": [
      "# Now add it with itself\n",
      "arr + arr"
     ],
     "language": "python",
     "metadata": {},
     "outputs": []
    },
    {
     "cell_type": "markdown",
     "metadata": {},
     "source": [
      "And since there's only one sensible way to interpret an expression like \"array plus one\", NumPy does the sensible thing there too. "
     ]
    },
    {
     "cell_type": "code",
     "collapsed": false,
     "input": [
      "# Add 1 to all elements--note that this does not *modify* arr\n",
      "arr + 1"
     ],
     "language": "python",
     "metadata": {},
     "outputs": []
    },
    {
     "cell_type": "markdown",
     "metadata": {},
     "source": [
      "Like other array-based libraries or languages, NumPy provides many useful tools for common linear algebra operations. For example, we can add up the values in our array with a single function call: "
     ]
    },
    {
     "cell_type": "code",
     "collapsed": false,
     "input": [
      "# Sum the array\n",
      "numpy.sum(arr)"
     ],
     "language": "python",
     "metadata": {},
     "outputs": []
    },
    {
     "cell_type": "markdown",
     "metadata": {},
     "source": [
      "We can also calculate the partial sum along each axis by passing an extra argument into `sum`: "
     ]
    },
    {
     "cell_type": "code",
     "collapsed": false,
     "input": [
      "# Sum along the row-axis\n",
      "numpy.sum(arr, axis=0)"
     ],
     "language": "python",
     "metadata": {},
     "outputs": [
      {
       "output_type": "pyout",
       "prompt_number": 36,
       "text": [
        "array([4, 6])"
       ]
      }
     ],
     "prompt_number": 36
    },
    {
     "cell_type": "code",
     "collapsed": false,
     "input": [
      "# Sum along the column-axis\n",
      "numpy.sum(arr, axis=1)"
     ],
     "language": "python",
     "metadata": {},
     "outputs": [
      {
       "output_type": "pyout",
       "prompt_number": 37,
       "text": [
        "array([3, 7])"
       ]
      }
     ],
     "prompt_number": 37
    },
    {
     "cell_type": "markdown",
     "metadata": {},
     "source": [
      "### Matrices\n",
      "There also exists a special matrix class that behaves more naturally like a matrix. For example the `*` operator on two matrix objects performs matrix multiplication:"
     ]
    },
    {
     "cell_type": "code",
     "collapsed": false,
     "input": [
      "# Make a 3x3 and a 1x3 matrix and mupltiply the former by the transpose of the latter\n",
      "matrix1 = np.matrix([[1, 2, 3], [4, 5, 6]])\n",
      "matrix2 = np.matrix([1, 2, 3])\n",
      "matrix1 * matrix2.transpose()"
     ],
     "language": "python",
     "metadata": {},
     "outputs": []
    },
    {
     "cell_type": "code",
     "collapsed": false,
     "input": [
      "matrix1 * matrix1.transpose()"
     ],
     "language": "python",
     "metadata": {},
     "outputs": []
    },
    {
     "cell_type": "markdown",
     "metadata": {},
     "source": [
      "## Importing and Exporting Data\n",
      "The numpy function genfromtxt is a powerful way to import text data.\n",
      "It can use different delimiters, skip header rows, control the type of imported data, give columns of data names, and a number of other useful goodies. See the [documentation](http://docs.scipy.org/doc/numpy/reference/generated/numpy.genfromtxt.html) for a full list of features of run help(np.genfromtxt) from the Python shell (after importing the module of course)."
     ]
    },
    {
     "cell_type": "markdown",
     "metadata": {},
     "source": [
      "### Basic Import and Export\n",
      "#### Import\n",
      "Basic imports using Numpy will treat all data as floats.\n",
      "If we're doing a basic import we'll typically want to skip the header row (since it's generally not composed of numbers)."
     ]
    },
    {
     "cell_type": "code",
     "collapsed": false,
     "input": [
      "!cat data/examp_data.txt"
     ],
     "language": "python",
     "metadata": {},
     "outputs": [
      {
       "output_type": "stream",
       "stream": "stdout",
       "text": [
        "a,   b,   c,   d\r\n",
        "1.0, 2.0, 4.0\r\n",
        "5.0, 6.0, 7.0\r\n",
        "1e2, 2e3, 4e5\r\n",
        "1e-2, 2e-3, 4.345e-5\r\n"
       ]
      }
     ],
     "prompt_number": 38
    },
    {
     "cell_type": "code",
     "collapsed": false,
     "input": [
      "# Use genfromtxt() to create an array from the file\n",
      "data = np.genfromtxt('./data/examp_data.txt', delimiter=',', skip_header=1)\n",
      "data"
     ],
     "language": "python",
     "metadata": {},
     "outputs": [
      {
       "output_type": "pyout",
       "prompt_number": 39,
       "text": [
        "array([[  1.00000000e+00,   2.00000000e+00,   4.00000000e+00],\n",
        "       [  5.00000000e+00,   6.00000000e+00,   7.00000000e+00],\n",
        "       [  1.00000000e+02,   2.00000000e+03,   4.00000000e+05],\n",
        "       [  1.00000000e-02,   2.00000000e-03,   4.34500000e-05]])"
       ]
      }
     ],
     "prompt_number": 39
    },
    {
     "cell_type": "markdown",
     "metadata": {},
     "source": [
      "#### Export"
     ]
    },
    {
     "cell_type": "code",
     "collapsed": true,
     "input": [
      "# Use savetxt() to dump the output to a new file with a different delimiter\n",
      "np.savetxt('./data/examp_output.txt', data, delimiter=', ')"
     ],
     "language": "python",
     "metadata": {},
     "outputs": []
    },
    {
     "cell_type": "code",
     "collapsed": false,
     "input": [
      "!cat data/examp_output.txt"
     ],
     "language": "python",
     "metadata": {},
     "outputs": []
    },
    {
     "cell_type": "markdown",
     "metadata": {},
     "source": [
      "### Importing Data Tables\n",
      "Lots of scientific data comes in the form of tables, with one row per observation, and one column per thing observed.\n",
      "Often the different columns to have different types (including text).\n",
      "The best way to work with this type of data is in a Structured Array."
     ]
    },
    {
     "cell_type": "markdown",
     "metadata": {},
     "source": [
      "#### Import\n",
      "To do this we let Numpy automatically detect the data types in each column using the optional argument ``dtype=None``.\n",
      "We can also use an existing header row as the names for the columns using the optional arugment ``Names=True``."
     ]
    },
    {
     "cell_type": "code",
     "collapsed": false,
     "input": [
      "!cat data/examp_data_species_mass.txt"
     ],
     "language": "python",
     "metadata": {},
     "outputs": [
      {
       "output_type": "stream",
       "stream": "stdout",
       "text": [
        "site,species,mass\r\n",
        "1,DS,125\r\n",
        "1,DM,70\r\n",
        "2,DM,55\r\n",
        "1,CB,40\r\n",
        "2,DS,110\r\n",
        "1,CB,45\r\n"
       ]
      }
     ],
     "prompt_number": 41
    },
    {
     "cell_type": "code",
     "collapsed": false,
     "input": [
      "# Use genfromtxt to create a table from the data including the column names\n",
      "data = np.genfromtxt('./data/examp_data_species_mass.txt', dtype=None, names=True, delimiter=',')\n",
      "data"
     ],
     "language": "python",
     "metadata": {},
     "outputs": [
      {
       "output_type": "pyout",
       "prompt_number": 42,
       "text": [
        "array([(1, 'DS', 125), (1, 'DM', 70), (2, 'DM', 55), (1, 'CB', 40),\n",
        "       (2, 'DS', 110), (1, 'CB', 45)], \n",
        "      dtype=[('site', '<i8'), ('species', '|S2'), ('mass', '<i8')])"
       ]
      }
     ],
     "prompt_number": 42
    },
    {
     "cell_type": "markdown",
     "metadata": {},
     "source": [
      "#### Export\n",
      "The easiest way to export a structured array is to treat it like a list of lists and export it using the csv module using a function like this."
     ]
    },
    {
     "cell_type": "code",
     "collapsed": true,
     "input": [
      "def export_to_csv(data, filename):\n",
      "    outputfile = open(filename, 'wb')\n",
      "    datawriter = csv.writer(outputfile)\n",
      "    datawriter.writerows(data)\n",
      "    outputfile.close()"
     ],
     "language": "python",
     "metadata": {},
     "outputs": []
    },
    {
     "cell_type": "markdown",
     "metadata": {},
     "source": [
      "Structured Arrays\n",
      "-----------------\n",
      "If we import data into a Structured Array we can do a lot of things that we often want to do with scientific data."
     ]
    },
    {
     "cell_type": "markdown",
     "metadata": {},
     "source": [
      "#### Selecting columns by name"
     ]
    },
    {
     "cell_type": "code",
     "collapsed": false,
     "input": [
      "data = np.genfromtxt('./data/examp_data_species_mass.txt', dtype=None, names=True, delimiter=',')\n",
      "print data\n",
      "data['species']"
     ],
     "language": "python",
     "metadata": {},
     "outputs": []
    },
    {
     "cell_type": "markdown",
     "metadata": {},
     "source": [
      "#### Subset columns based on the values in other columns"
     ]
    },
    {
     "cell_type": "code",
     "collapsed": false,
     "input": [
      "# Select the masses from rows in which the species is 'DM'\n",
      "data['mass'][data['species'] == 'DM']"
     ],
     "language": "python",
     "metadata": {},
     "outputs": [
      {
       "output_type": "pyout",
       "prompt_number": 43,
       "text": [
        "array([70, 55])"
       ]
      }
     ],
     "prompt_number": 43
    },
    {
     "cell_type": "code",
     "collapsed": false,
     "input": [
      "# Same as above but only where site==1\n",
      "data['mass'][(data['species'] == 'DM') & (data['site'] == 1)]"
     ],
     "language": "python",
     "metadata": {},
     "outputs": [
      {
       "output_type": "pyout",
       "prompt_number": 44,
       "text": [
        "array([70])"
       ]
      }
     ],
     "prompt_number": 44
    },
    {
     "cell_type": "markdown",
     "metadata": {},
     "source": [
      "## Random number generation\n",
      "#### Random uniform (0 to 1)"
     ]
    },
    {
     "cell_type": "code",
     "collapsed": false,
     "input": [
      "np.random.rand(3, 5)"
     ],
     "language": "python",
     "metadata": {},
     "outputs": []
    },
    {
     "cell_type": "markdown",
     "metadata": {},
     "source": [
      "#### Random normal (mean=0, stdev=1)"
     ]
    },
    {
     "cell_type": "code",
     "collapsed": false,
     "input": [
      "np.random.randn(4, 2)"
     ],
     "language": "python",
     "metadata": {},
     "outputs": []
    },
    {
     "cell_type": "markdown",
     "metadata": {},
     "source": [
      "#### Random integers"
     ]
    },
    {
     "cell_type": "code",
     "collapsed": false,
     "input": [
      "min = 10\n",
      "max = 20\n",
      "np.random.randint(min, max, [10, 2])"
     ],
     "language": "python",
     "metadata": {},
     "outputs": []
    }
   ],
   "metadata": {}
  }
 ]
}