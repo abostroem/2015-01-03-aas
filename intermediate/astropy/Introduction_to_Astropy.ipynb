{
 "metadata": {
  "name": "",
  "signature": "sha256:eced3f6bfd4f1af8ad1e3e68caff9e8c9d5280edb4066352d2b9aeaa688fe1f3"
 },
 "nbformat": 3,
 "nbformat_minor": 0,
 "worksheets": [
  {
   "cells": [
    {
     "cell_type": "heading",
     "level": 1,
     "metadata": {},
     "source": [
      "Astropy Introduction"
     ]
    },
    {
     "cell_type": "heading",
     "level": 2,
     "metadata": {},
     "source": [
      "A brief history of the Astropy project"
     ]
    },
    {
     "cell_type": "markdown",
     "metadata": {},
     "source": [
      " - Started about 4 years ago\n",
      "   - Goal to standardize on core set of astronomical libraries\n",
      "    - And to foster use of standard libraries in Python application and library packages\n",
      " - STScI has migrated its standard libraries to astropy and is transitioning to use it for all its released software\n",
      " - Very active community\n",
      " - Much effort going into consistency and testing\n",
      "   - Testing against existing coordinate conversion libraries, for example"
     ]
    },
    {
     "cell_type": "heading",
     "level": 2,
     "metadata": {},
     "source": [
      "What Astropy is"
     ]
    },
    {
     "cell_type": "markdown",
     "metadata": {},
     "source": [
      "- Open source project intended from the beginning to be maintained by a community of astronomers, astrophysicists, software developers, and any other interested parties\n",
      "  - Not tied to any single institution\n",
      "- An effort to lower the barrier of entry to new contributors with good ideas; lots of documentation for new (and existing) developers for how to contribute\n",
      "- Code, documentation, and tests that keep pace with the latest best practices of the Python community at large--strong emphasis on stylistic consistency and quality\n",
      "- Most importantly, provides easy (hopefully) to use interfaces for common procedures needed to write astronomy software\n",
      "  - Units and constants\n",
      "  - Coordinate conversions\n",
      "  - Time conversions\n",
      "  - Tables\n",
      "  - Convolution and filtering\n",
      "  - Modeling and fitting\n",
      "  - Statistics\n",
      "  - VO services\n",
      "  - File formats (FITS, ASCII tables, VOTable, HDF5)\n",
      "  - And other sundry utilities\n",
      "- Some functionality may be too special-purpose to go into the \"core\" package routines, but instead can be released as an Astropy Affiliated Package.  Some affiliated packages include photutils (photometry), specutils (spectroscopy), gammapy (gamma-ray data analysis), ccdproc (CCD data reduction), etc...\n",
      "  - Affiliated packages may in some case also be test-beds for features to be integrated into the core package.\n",
      "  "
     ]
    },
    {
     "cell_type": "heading",
     "level": 2,
     "metadata": {},
     "source": [
      "Some things Astropy is not"
     ]
    },
    {
     "cell_type": "markdown",
     "metadata": {},
     "source": [
      "- An \"IRAF replacement\"\n",
      "  - Astropy does not provide a complete data reduction and analysis environment--it is a library on which data analysis tools\n",
      "    and other more specialized libraries can be built.  By using the interfaces provided by Astropy, however, all tools built\n",
      "    with it attain a high degree of interoperability (especially important in areas like coordinates and units!)\n",
      "- An \"IDL replacement\"\n",
      "  - Not exactly a grab bag of single-purposes functions, and more of a framework--highly object-oriented.  Not all IDL\n",
      "    routines have an exact equivalent in Astropy, though most of them could be reproduced fairly easily\n",
      "  - That said, efforts are being made to make it easier to find out how to do specific tasks, and people have also been\n",
      "    compiling lists of documentation for how to recreate popular IDL routines and IRAF tasks using Astropy (and affiliated\n",
      "    packages)\n",
      "- A small library\n",
      "  - We barely have time to scratch the surface today of what capabilities are available through Astropy\n",
      "- Unwieldy\n",
      "  - By using it in one's day to day coding tasks one can get quite comfortable and efficient at using the parts of Astropy that they need"
     ]
    },
    {
     "cell_type": "heading",
     "level": 3,
     "metadata": {},
     "source": [
      "Units"
     ]
    },
    {
     "cell_type": "markdown",
     "metadata": {},
     "source": [
      "One of the most powerful, central features of Astropy is the unit conversion library, and the `Quantity` object that associates numerical values (and arrays) with units.  Effort is made to integrate units throughout Astropy so it is important to understand their usage.\n",
      "\n",
      "Since we may want to use a number of units in expressions, it is easiest and\n",
      "most concise to import the units module with:"
     ]
    },
    {
     "cell_type": "code",
     "collapsed": false,
     "input": [
      "from astropy import units as u"
     ],
     "language": "python",
     "metadata": {},
     "outputs": [],
     "prompt_number": 1
    },
    {
     "cell_type": "markdown",
     "metadata": {},
     "source": [
      "though note that this will conflict with any variable called ``u``.\n",
      "\n",
      "Units can then be accessed with:"
     ]
    },
    {
     "cell_type": "code",
     "collapsed": false,
     "input": [
      "u.m"
     ],
     "language": "python",
     "metadata": {},
     "outputs": [
      {
       "latex": [
        "$\\mathrm{m}$"
       ],
       "metadata": {},
       "output_type": "pyout",
       "prompt_number": 2,
       "text": [
        "Unit(\"m\")"
       ]
      }
     ],
     "prompt_number": 2
    },
    {
     "cell_type": "markdown",
     "metadata": {},
     "source": [
      "In the notebook this just displays a LaTeX representation of the unit:"
     ]
    },
    {
     "cell_type": "code",
     "collapsed": false,
     "input": [
      "u.Angstrom"
     ],
     "language": "python",
     "metadata": {},
     "outputs": [
      {
       "latex": [
        "$\\mathrm{\\overset{\\circ}{A}}$"
       ],
       "metadata": {},
       "output_type": "pyout",
       "prompt_number": 3,
       "text": [
        "Unit(\"Angstrom\")"
       ]
      }
     ],
     "prompt_number": 3
    },
    {
     "cell_type": "markdown",
     "metadata": {},
     "source": [
      "They all have a docstring defining them:"
     ]
    },
    {
     "cell_type": "code",
     "collapsed": false,
     "input": [
      "print(u.m.__doc__)"
     ],
     "language": "python",
     "metadata": {},
     "outputs": [
      {
       "output_type": "stream",
       "stream": "stdout",
       "text": [
        "meter: base unit of length in SI\n"
       ]
      }
     ],
     "prompt_number": 4
    },
    {
     "cell_type": "markdown",
     "metadata": {},
     "source": [
      "An associated physical type:"
     ]
    },
    {
     "cell_type": "code",
     "collapsed": false,
     "input": [
      "print(u.m.physical_type)"
     ],
     "language": "python",
     "metadata": {},
     "outputs": [
      {
       "output_type": "stream",
       "stream": "stdout",
       "text": [
        "length\n"
       ]
      }
     ],
     "prompt_number": 5
    },
    {
     "cell_type": "code",
     "collapsed": false,
     "input": [
      "print(u.Angstrom.physical_type)"
     ],
     "language": "python",
     "metadata": {},
     "outputs": [
      {
       "output_type": "stream",
       "stream": "stdout",
       "text": [
        "length\n"
       ]
      }
     ],
     "prompt_number": 6
    },
    {
     "cell_type": "markdown",
     "metadata": {},
     "source": [
      "And other various associated information that can be explored through the [full documentation](http://docs.astropy.org/en/stable/units/index.html)."
     ]
    },
    {
     "cell_type": "markdown",
     "metadata": {},
     "source": [
      "To create a *quantity* we just multiply a value by a unit.  The value can be either a scalar or a Numpy array (or an object that can be converted to an array, like a Python list):"
     ]
    },
    {
     "cell_type": "code",
     "collapsed": false,
     "input": [
      "1.0 * u.m"
     ],
     "language": "python",
     "metadata": {},
     "outputs": [
      {
       "latex": [
        "$1 \\; \\mathrm{m}$"
       ],
       "metadata": {},
       "output_type": "pyout",
       "prompt_number": 7,
       "text": [
        "<Quantity 1.0 m>"
       ]
      }
     ],
     "prompt_number": 7
    },
    {
     "cell_type": "code",
     "collapsed": false,
     "input": [
      "[1.0, 2.0, 3.0] * u.m"
     ],
     "language": "python",
     "metadata": {},
     "outputs": [
      {
       "metadata": {},
       "output_type": "pyout",
       "prompt_number": 8,
       "text": [
        "<Quantity [ 1., 2., 3.] m>"
       ]
      }
     ],
     "prompt_number": 8
    },
    {
     "cell_type": "markdown",
     "metadata": {},
     "source": [
      "Since `u.m` and `u.Angstrom` have the same physical type we can convert a quantity in meters to a quantity in Angstroms:"
     ]
    },
    {
     "cell_type": "code",
     "collapsed": false,
     "input": [
      "q = [1.0, 2.0, 3.0] * u.m\n",
      "q.to(u.Angstrom)"
     ],
     "language": "python",
     "metadata": {},
     "outputs": [
      {
       "metadata": {},
       "output_type": "pyout",
       "prompt_number": 9,
       "text": [
        "<Quantity [  1.00000000e+10,  2.00000000e+10,  3.00000000e+10] Angstrom>"
       ]
      }
     ],
     "prompt_number": 9
    },
    {
     "cell_type": "markdown",
     "metadata": {},
     "source": [
      "Quantities can then be combined:"
     ]
    },
    {
     "cell_type": "code",
     "collapsed": false,
     "input": [
      "q1 = 3. * u.m"
     ],
     "language": "python",
     "metadata": {},
     "outputs": [],
     "prompt_number": 10
    },
    {
     "cell_type": "code",
     "collapsed": false,
     "input": [
      "q2 = 5. * u.cm / u.s / u.g**2"
     ],
     "language": "python",
     "metadata": {},
     "outputs": [],
     "prompt_number": 11
    },
    {
     "cell_type": "code",
     "collapsed": false,
     "input": [
      "q1 * q2"
     ],
     "language": "python",
     "metadata": {},
     "outputs": [
      {
       "latex": [
        "$15 \\; \\mathrm{\\frac{cm\\,m}{s\\,g^{2}}}$"
       ],
       "metadata": {},
       "output_type": "pyout",
       "prompt_number": 12,
       "text": [
        "<Quantity 15.0 cm m / (g2 s)>"
       ]
      }
     ],
     "prompt_number": 12
    },
    {
     "cell_type": "markdown",
     "metadata": {},
     "source": [
      "and converted to different units:"
     ]
    },
    {
     "cell_type": "code",
     "collapsed": false,
     "input": [
      "(q1 * q2).to(u.m**2 / u.kg**2 / u.s)"
     ],
     "language": "python",
     "metadata": {},
     "outputs": [
      {
       "latex": [
        "$150000 \\; \\mathrm{\\frac{m^{2}}{s\\,kg^{2}}}$"
       ],
       "metadata": {},
       "output_type": "pyout",
       "prompt_number": 13,
       "text": [
        "<Quantity 150000.0 m2 / (kg2 s)>"
       ]
      }
     ],
     "prompt_number": 13
    },
    {
     "cell_type": "markdown",
     "metadata": {},
     "source": [
      "We can also incorporate physical constants from the [`astropy.constants`](http://docs.astropy.org/en/stable/constants/index.html) library.  For example, ff we want to compute\n",
      "the Gravitational force felt by a 100. kg space probe by the Sun, at a distance of 3.2au, we can do:"
     ]
    },
    {
     "cell_type": "code",
     "collapsed": false,
     "input": [
      "from astropy.constants import G"
     ],
     "language": "python",
     "metadata": {},
     "outputs": [],
     "prompt_number": 14
    },
    {
     "cell_type": "code",
     "collapsed": false,
     "input": [
      "F = (G * 1. * u.M_sun * 100. * u.kg) / (3.2 * u.au)**2"
     ],
     "language": "python",
     "metadata": {},
     "outputs": [],
     "prompt_number": 15
    },
    {
     "cell_type": "code",
     "collapsed": false,
     "input": [
      "F"
     ],
     "language": "python",
     "metadata": {},
     "outputs": [
      {
       "latex": [
        "$6.51742\\times 10^{-10} \\; \\mathrm{\\frac{m^{3}\\,M_{\\odot}}{AU^{2}\\,s^{2}}}$"
       ],
       "metadata": {},
       "output_type": "pyout",
       "prompt_number": 16,
       "text": [
        "<Quantity 6.517421874999999e-10 m3 solMass / (AU2 s2)>"
       ]
      }
     ],
     "prompt_number": 16
    },
    {
     "cell_type": "code",
     "collapsed": false,
     "input": [
      "F.to(u.N)"
     ],
     "language": "python",
     "metadata": {},
     "outputs": [
      {
       "latex": [
        "$0.0579271 \\; \\mathrm{N}$"
       ],
       "metadata": {},
       "output_type": "pyout",
       "prompt_number": 17,
       "text": [
        "<Quantity 0.05792707869188191 N>"
       ]
      }
     ],
     "prompt_number": 17
    },
    {
     "cell_type": "markdown",
     "metadata": {},
     "source": [
      "Units don't necessarily *have* to have the same physical type to be converted between each other.  Astropy includes a number of unit equivalencies that can be enabled (with the possibility of defining your own).  For example, without equivalencies the following fails:"
     ]
    },
    {
     "cell_type": "code",
     "collapsed": false,
     "input": [
      "(450. * u.nm).to(u.GHz)"
     ],
     "language": "python",
     "metadata": {},
     "outputs": [
      {
       "ename": "UnitsError",
       "evalue": "'nm' (length) and 'GHz' (frequency) are not convertible",
       "output_type": "pyerr",
       "traceback": [
        "\u001b[1;31m---------------------------------------------------------------------------\u001b[0m\n\u001b[1;31mUnitsError\u001b[0m                                Traceback (most recent call last)",
        "\u001b[1;32m<ipython-input-18-e4fbcb033257>\u001b[0m in \u001b[0;36m<module>\u001b[1;34m()\u001b[0m\n\u001b[1;32m----> 1\u001b[1;33m \u001b[1;33m(\u001b[0m\u001b[1;36m450.\u001b[0m \u001b[1;33m*\u001b[0m \u001b[0mu\u001b[0m\u001b[1;33m.\u001b[0m\u001b[0mnm\u001b[0m\u001b[1;33m)\u001b[0m\u001b[1;33m.\u001b[0m\u001b[0mto\u001b[0m\u001b[1;33m(\u001b[0m\u001b[0mu\u001b[0m\u001b[1;33m.\u001b[0m\u001b[0mGHz\u001b[0m\u001b[1;33m)\u001b[0m\u001b[1;33m\u001b[0m\u001b[0m\n\u001b[0m",
        "\u001b[1;32m/usr/local/lib/python2.7/dist-packages/astropy/units/quantity.pyc\u001b[0m in \u001b[0;36mto\u001b[1;34m(self, unit, equivalencies)\u001b[0m\n\u001b[0;32m    575\u001b[0m         \u001b[0munit\u001b[0m \u001b[1;33m=\u001b[0m \u001b[0mUnit\u001b[0m\u001b[1;33m(\u001b[0m\u001b[0munit\u001b[0m\u001b[1;33m)\u001b[0m\u001b[1;33m\u001b[0m\u001b[0m\n\u001b[0;32m    576\u001b[0m         new_val = np.asarray(\n\u001b[1;32m--> 577\u001b[1;33m             self.unit.to(unit, self.value, equivalencies=equivalencies))\n\u001b[0m\u001b[0;32m    578\u001b[0m         \u001b[1;32mreturn\u001b[0m \u001b[0mself\u001b[0m\u001b[1;33m.\u001b[0m\u001b[0m_new_view\u001b[0m\u001b[1;33m(\u001b[0m\u001b[0mnew_val\u001b[0m\u001b[1;33m,\u001b[0m \u001b[0munit\u001b[0m\u001b[1;33m)\u001b[0m\u001b[1;33m\u001b[0m\u001b[0m\n\u001b[0;32m    579\u001b[0m \u001b[1;33m\u001b[0m\u001b[0m\n",
        "\u001b[1;32m/usr/local/lib/python2.7/dist-packages/astropy/units/core.pyc\u001b[0m in \u001b[0;36mto\u001b[1;34m(self, other, value, equivalencies)\u001b[0m\n\u001b[0;32m    910\u001b[0m             \u001b[0mIf\u001b[0m \u001b[0munits\u001b[0m \u001b[0mare\u001b[0m \u001b[0minconsistent\u001b[0m\u001b[1;33m\u001b[0m\u001b[0m\n\u001b[0;32m    911\u001b[0m         \"\"\"\n\u001b[1;32m--> 912\u001b[1;33m         \u001b[1;32mreturn\u001b[0m \u001b[0mself\u001b[0m\u001b[1;33m.\u001b[0m\u001b[0mget_converter\u001b[0m\u001b[1;33m(\u001b[0m\u001b[0mother\u001b[0m\u001b[1;33m,\u001b[0m \u001b[0mequivalencies\u001b[0m\u001b[1;33m=\u001b[0m\u001b[0mequivalencies\u001b[0m\u001b[1;33m)\u001b[0m\u001b[1;33m(\u001b[0m\u001b[0mvalue\u001b[0m\u001b[1;33m)\u001b[0m\u001b[1;33m\u001b[0m\u001b[0m\n\u001b[0m\u001b[0;32m    913\u001b[0m \u001b[1;33m\u001b[0m\u001b[0m\n\u001b[0;32m    914\u001b[0m     \u001b[1;32mdef\u001b[0m \u001b[0min_units\u001b[0m\u001b[1;33m(\u001b[0m\u001b[0mself\u001b[0m\u001b[1;33m,\u001b[0m \u001b[0mother\u001b[0m\u001b[1;33m,\u001b[0m \u001b[0mvalue\u001b[0m\u001b[1;33m=\u001b[0m\u001b[1;36m1.0\u001b[0m\u001b[1;33m,\u001b[0m \u001b[0mequivalencies\u001b[0m\u001b[1;33m=\u001b[0m\u001b[1;33m[\u001b[0m\u001b[1;33m]\u001b[0m\u001b[1;33m)\u001b[0m\u001b[1;33m:\u001b[0m\u001b[1;33m\u001b[0m\u001b[0m\n",
        "\u001b[1;32m/usr/local/lib/python2.7/dist-packages/astropy/units/core.pyc\u001b[0m in \u001b[0;36mget_converter\u001b[1;34m(self, other, equivalencies)\u001b[0m\n\u001b[0;32m    846\u001b[0m         \u001b[1;32mexcept\u001b[0m \u001b[0mUnitsError\u001b[0m\u001b[1;33m:\u001b[0m\u001b[1;33m\u001b[0m\u001b[0m\n\u001b[0;32m    847\u001b[0m             return self._apply_equivalences(\n\u001b[1;32m--> 848\u001b[1;33m                 self, other, self._normalize_equivalencies(equivalencies))\n\u001b[0m\u001b[0;32m    849\u001b[0m         \u001b[1;32mreturn\u001b[0m \u001b[1;32mlambda\u001b[0m \u001b[0mval\u001b[0m\u001b[1;33m:\u001b[0m \u001b[0mscale\u001b[0m \u001b[1;33m*\u001b[0m \u001b[0m_condition_arg\u001b[0m\u001b[1;33m(\u001b[0m\u001b[0mval\u001b[0m\u001b[1;33m)\u001b[0m\u001b[1;33m\u001b[0m\u001b[0m\n\u001b[0;32m    850\u001b[0m \u001b[1;33m\u001b[0m\u001b[0m\n",
        "\u001b[1;32m/usr/local/lib/python2.7/dist-packages/astropy/units/core.pyc\u001b[0m in \u001b[0;36m_apply_equivalences\u001b[1;34m(self, unit, other, equivalencies)\u001b[0m\n\u001b[0;32m    809\u001b[0m         raise UnitsError(\n\u001b[0;32m    810\u001b[0m             \"{0} and {1} are not convertible\".format(\n\u001b[1;32m--> 811\u001b[1;33m                 unit_str, other_str))\n\u001b[0m\u001b[0;32m    812\u001b[0m \u001b[1;33m\u001b[0m\u001b[0m\n\u001b[0;32m    813\u001b[0m     \u001b[1;32mdef\u001b[0m \u001b[0mget_converter\u001b[0m\u001b[1;33m(\u001b[0m\u001b[0mself\u001b[0m\u001b[1;33m,\u001b[0m \u001b[0mother\u001b[0m\u001b[1;33m,\u001b[0m \u001b[0mequivalencies\u001b[0m\u001b[1;33m=\u001b[0m\u001b[1;33m[\u001b[0m\u001b[1;33m]\u001b[0m\u001b[1;33m)\u001b[0m\u001b[1;33m:\u001b[0m\u001b[1;33m\u001b[0m\u001b[0m\n",
        "\u001b[1;31mUnitsError\u001b[0m: 'nm' (length) and 'GHz' (frequency) are not convertible"
       ]
      }
     ],
     "prompt_number": 18
    },
    {
     "cell_type": "markdown",
     "metadata": {},
     "source": [
      "But with the spectral equivalency:"
     ]
    },
    {
     "cell_type": "code",
     "collapsed": false,
     "input": [
      "(450. * u.nm).to(u.GHz, equivalencies=u.spectral())"
     ],
     "language": "python",
     "metadata": {},
     "outputs": [
      {
       "latex": [
        "$666205 \\; \\mathrm{GHz}$"
       ],
       "metadata": {},
       "output_type": "pyout",
       "prompt_number": 19,
       "text": [
        "<Quantity 666205.4622222221 GHz>"
       ]
      }
     ],
     "prompt_number": 19
    },
    {
     "cell_type": "code",
     "collapsed": false,
     "input": [
      "(450. * u.eV).to(u.nm, equivalencies=u.spectral())"
     ],
     "language": "python",
     "metadata": {},
     "outputs": [
      {
       "latex": [
        "$2.7552 \\; \\mathrm{nm}$"
       ],
       "metadata": {},
       "output_type": "pyout",
       "prompt_number": 20,
       "text": [
        "<Quantity 2.7552042871120452 nm>"
       ]
      }
     ],
     "prompt_number": 20
    },
    {
     "cell_type": "markdown",
     "metadata": {},
     "source": [
      "Most of the Numpy functions also understand Astropy quantities (with some notable exceptions you can find in the documentation).  For example, by default `np.sin` takes input in radians:"
     ]
    },
    {
     "cell_type": "code",
     "collapsed": false,
     "input": [
      "import numpy as np\n",
      "np.sin(90)"
     ],
     "language": "python",
     "metadata": {},
     "outputs": [
      {
       "metadata": {},
       "output_type": "pyout",
       "prompt_number": 21,
       "text": [
        "0.89399666360055785"
       ]
      }
     ],
     "prompt_number": 21
    },
    {
     "cell_type": "markdown",
     "metadata": {},
     "source": [
      "But if we pass in a quantity in degrees:"
     ]
    },
    {
     "cell_type": "code",
     "collapsed": false,
     "input": [
      "np.sin(90 * u.degree)"
     ],
     "language": "python",
     "metadata": {},
     "outputs": [
      {
       "latex": [
        "$1 \\; \\mathrm{}$"
       ],
       "metadata": {},
       "output_type": "pyout",
       "prompt_number": 22,
       "text": [
        "<Quantity 1.0>"
       ]
      }
     ],
     "prompt_number": 22
    },
    {
     "cell_type": "markdown",
     "metadata": {},
     "source": [
      "More examples and exercises with units in [this notebook](TODO)."
     ]
    },
    {
     "cell_type": "heading",
     "level": 3,
     "metadata": {},
     "source": [
      "Tables"
     ]
    },
    {
     "cell_type": "markdown",
     "metadata": {},
     "source": [
      "The astropy [Table](http://docs.astropy.org/en/stable/table/index.html) class provides an extension of NumPy structured arrays for storing and manipulating heterogeneous tables of data. A few notable features of this package are:\n",
      "\n",
      "- Initialize a table from a wide variety of input data structures and types.\n",
      "- Modify a table by adding or removing columns, changing column names, or adding new rows of data.\n",
      "- Handle tables containing missing values.\n",
      "- Include table and column metadata as flexible data structures.\n",
      "- Specify a description, units and output formatting for columns.\n",
      "- Perform operations like database joins, concatenation, and grouping.\n",
      "- Manipulate multidimensional columns.\n",
      "- Methods for Reading and writing Table objects to files\n",
      "- Integration with Astropy [Units and Quantities](http://astropy.readthedocs.org/en/stable/units/index.html)\n",
      "- And still more capabilities there won't be time to demonstrate today..."
     ]
    },
    {
     "cell_type": "code",
     "collapsed": false,
     "input": [
      "from astropy.table import Table\n",
      "import numpy as np"
     ],
     "language": "python",
     "metadata": {},
     "outputs": [],
     "prompt_number": 23
    },
    {
     "cell_type": "markdown",
     "metadata": {},
     "source": [
      "Creating tables\n",
      "---------------\n",
      "\n",
      "There is great deal of flexibility in the way that a table can be initially constructed:\n",
      "\n",
      "- Read an existing table from a file or web URL\n",
      "- Add columns of data one by one\n",
      "- Add rows of data one by one\n",
      "- From an existing data structure in memory:\n",
      "\n",
      "  - List of data columns\n",
      "  - Dict of data columns\n",
      "  - List of row dicts\n",
      "  - Numpy homgeneous array or structured array\n",
      "  - List of row records (new in 0.4)\n",
      "  \n",
      "See the documentation section on [Constructing a table](http://astropy.readthedocs.org/en/stable/table/construct_table.html) for the gory details and plenty of examples.\n",
      "\n",
      "The easiest (though maybe not always most useful in practice) way is to just create an empty table object and add columns to it by assigning arrays to column names, in a syntax reminiscent on dictionaries:"
     ]
    },
    {
     "cell_type": "code",
     "collapsed": false,
     "input": [
      "t = Table()\n",
      "t['name'] = ['source 1', 'source 2', 'source 3', 'source 4']\n",
      "t['flux'] = [1.2, 2.2, 3.1, 4.3]"
     ],
     "language": "python",
     "metadata": {},
     "outputs": [],
     "prompt_number": 24
    },
    {
     "cell_type": "markdown",
     "metadata": {},
     "source": [
      "Tables have numerous useful attributes for introspection.  Just a couple examples are:"
     ]
    },
    {
     "cell_type": "code",
     "collapsed": false,
     "input": [
      "t.colnames"
     ],
     "language": "python",
     "metadata": {},
     "outputs": [
      {
       "metadata": {},
       "output_type": "pyout",
       "prompt_number": 25,
       "text": [
        "['name', 'flux']"
       ]
      }
     ],
     "prompt_number": 25
    },
    {
     "cell_type": "code",
     "collapsed": false,
     "input": [
      "t.dtype"
     ],
     "language": "python",
     "metadata": {},
     "outputs": [
      {
       "metadata": {},
       "output_type": "pyout",
       "prompt_number": 26,
       "text": [
        "dtype([('name', '|S8'), ('flux', '<f8')])"
       ]
      }
     ],
     "prompt_number": 26
    },
    {
     "cell_type": "markdown",
     "metadata": {},
     "source": [
      "There are several options for viewing tables, but for a small table it will just print in full:"
     ]
    },
    {
     "cell_type": "code",
     "collapsed": false,
     "input": [
      "t"
     ],
     "language": "python",
     "metadata": {},
     "outputs": [
      {
       "html": [
        "<table id=\"table70966672\"><thead><tr><th>name</th><th>flux</th></tr></thead><tr><td>source 1</td><td>1.2</td></tr><tr><td>source 2</td><td>2.2</td></tr><tr><td>source 3</td><td>3.1</td></tr><tr><td>source 4</td><td>4.3</td></tr></table>"
       ],
       "metadata": {},
       "output_type": "pyout",
       "prompt_number": 27,
       "text": [
        "<Table rows=4 names=('name','flux')>\n",
        "array([('source 1', 1.2), ('source 2', 2.2), ('source 3', 3.1),\n",
        "       ('source 4', 4.3)], \n",
        "      dtype=[('name', '|S8'), ('flux', '<f8')])"
       ]
      }
     ],
     "prompt_number": 27
    },
    {
     "cell_type": "markdown",
     "metadata": {},
     "source": [
      "We can access single rows of columns, single columns, or selection sof multiple rows/columns:"
     ]
    },
    {
     "cell_type": "code",
     "collapsed": false,
     "input": [
      "t['flux']"
     ],
     "language": "python",
     "metadata": {},
     "outputs": [
      {
       "metadata": {},
       "output_type": "pyout",
       "prompt_number": 28,
       "text": [
        "<Column name='flux' unit=None format=None description=None>\n",
        "array([ 1.2,  2.2,  3.1,  4.3])"
       ]
      }
     ],
     "prompt_number": 28
    },
    {
     "cell_type": "code",
     "collapsed": false,
     "input": [
      "t[1]"
     ],
     "language": "python",
     "metadata": {},
     "outputs": [
      {
       "metadata": {},
       "output_type": "pyout",
       "prompt_number": 29,
       "text": [
        "<Row 1 of table\n",
        " values=('source 2', 2.2)\n",
        " dtype=[('name', '|S8'), ('flux', '<f8')]>"
       ]
      }
     ],
     "prompt_number": 29
    },
    {
     "cell_type": "code",
     "collapsed": false,
     "input": [
      "t[1:3]"
     ],
     "language": "python",
     "metadata": {},
     "outputs": [
      {
       "html": [
        "<table id=\"table70965776\"><thead><tr><th>name</th><th>flux</th></tr></thead><tr><td>source 2</td><td>2.2</td></tr><tr><td>source 3</td><td>3.1</td></tr></table>"
       ],
       "metadata": {},
       "output_type": "pyout",
       "prompt_number": 30,
       "text": [
        "<Table rows=2 names=('name','flux')>\n",
        "array([('source 2', 2.2), ('source 3', 3.1)], \n",
        "      dtype=[('name', '|S8'), ('flux', '<f8')])"
       ]
      }
     ],
     "prompt_number": 30
    },
    {
     "cell_type": "markdown",
     "metadata": {},
     "source": [
      "Table columns can also have units associated with them for storing quantities to tables.  This is useful, for example, when we read FITS tables--if a column has an associated `TUNIT` keyword we can return dimensionful quantities from the table."
     ]
    },
    {
     "cell_type": "markdown",
     "metadata": {},
     "source": [
      "*Masked* tables are another powerful feature of the Astropy Table class:"
     ]
    },
    {
     "cell_type": "code",
     "collapsed": false,
     "input": [
      "t2 = Table([['x', 'y', 'z'], \n",
      "            [1.1, 2.2, 3.3]],\n",
      "           names=['name', 'value'],\n",
      "           masked=True)\n",
      "t2"
     ],
     "language": "python",
     "metadata": {},
     "outputs": [
      {
       "html": [
        "<table id=\"table70966864\"><thead><tr><th>name</th><th>value</th></tr></thead><tr><td>x</td><td>1.1</td></tr><tr><td>y</td><td>2.2</td></tr><tr><td>z</td><td>3.3</td></tr></table>"
       ],
       "metadata": {},
       "output_type": "pyout",
       "prompt_number": 31,
       "text": [
        "<Table rows=3 names=('name','value')>\n",
        "masked_array(data = [('x', 1.1) ('y', 2.2) ('z', 3.3)],\n",
        "             mask = [(False, False) (False, False) (False, False)],\n",
        "       fill_value = ('N', 1e+20),\n",
        "            dtype = [('name', '|S1'), ('value', '<f8')])"
       ]
      }
     ],
     "prompt_number": 31
    },
    {
     "cell_type": "code",
     "collapsed": false,
     "input": [
      "t2['value'].mask = [False, True, False]"
     ],
     "language": "python",
     "metadata": {},
     "outputs": [],
     "prompt_number": 32
    },
    {
     "cell_type": "code",
     "collapsed": false,
     "input": [
      "t2"
     ],
     "language": "python",
     "metadata": {},
     "outputs": [
      {
       "html": [
        "<table id=\"table70966864\"><thead><tr><th>name</th><th>value</th></tr></thead><tr><td>x</td><td>1.1</td></tr><tr><td>y</td><td>--</td></tr><tr><td>z</td><td>3.3</td></tr></table>"
       ],
       "metadata": {},
       "output_type": "pyout",
       "prompt_number": 33,
       "text": [
        "<Table rows=3 names=('name','value')>\n",
        "masked_array(data = [('x', 1.1) ('y', --) ('z', 3.3)],\n",
        "             mask = [(False, False) (False, True) (False, False)],\n",
        "       fill_value = ('N', 1e+20),\n",
        "            dtype = [('name', '|S1'), ('value', '<f8')])"
       ]
      }
     ],
     "prompt_number": 33
    },
    {
     "cell_type": "markdown",
     "metadata": {},
     "source": [
      "Numerical operations on masked columns ignore the masked values:"
     ]
    },
    {
     "cell_type": "code",
     "collapsed": false,
     "input": [
      "t2['value'].mean()"
     ],
     "language": "python",
     "metadata": {},
     "outputs": [
      {
       "metadata": {},
       "output_type": "pyout",
       "prompt_number": 34,
       "text": [
        "2.2000000000000002"
       ]
      }
     ],
     "prompt_number": 34
    },
    {
     "cell_type": "code",
     "collapsed": false,
     "input": [
      "t2['value'].fill_value"
     ],
     "language": "python",
     "metadata": {},
     "outputs": [
      {
       "metadata": {},
       "output_type": "pyout",
       "prompt_number": 35,
       "text": [
        "1e+20"
       ]
      }
     ],
     "prompt_number": 35
    },
    {
     "cell_type": "markdown",
     "metadata": {},
     "source": [
      "We can set our own fill value which can be used when outputting the table to a format that does not natively support masked values:"
     ]
    },
    {
     "cell_type": "code",
     "collapsed": false,
     "input": [
      "t2['value'].fill_value = -99"
     ],
     "language": "python",
     "metadata": {},
     "outputs": [],
     "prompt_number": 36
    },
    {
     "cell_type": "code",
     "collapsed": false,
     "input": [
      "t2.filled()"
     ],
     "language": "python",
     "metadata": {},
     "outputs": [
      {
       "html": [
        "<table id=\"table70966928\"><thead><tr><th>name</th><th>value</th></tr></thead><tr><td>x</td><td>1.1</td></tr><tr><td>y</td><td>-99.0</td></tr><tr><td>z</td><td>3.3</td></tr></table>"
       ],
       "metadata": {},
       "output_type": "pyout",
       "prompt_number": 37,
       "text": [
        "<Table rows=3 names=('name','value')>\n",
        "array([('x', 1.1), ('y', -99.0), ('z', 3.3)], \n",
        "      dtype=[('name', '|S1'), ('value', '<f8')])"
       ]
      }
     ],
     "prompt_number": 37
    },
    {
     "cell_type": "markdown",
     "metadata": {},
     "source": [
      "Tables support a number of high-level operations for combining tables, including merging, concatenating, and grouping.  For example, recall our first table of flux values:"
     ]
    },
    {
     "cell_type": "code",
     "collapsed": false,
     "input": [
      "t"
     ],
     "language": "python",
     "metadata": {},
     "outputs": [
      {
       "html": [
        "<table id=\"table70966672\"><thead><tr><th>name</th><th>flux</th></tr></thead><tr><td>source 1</td><td>1.2</td></tr><tr><td>source 2</td><td>2.2</td></tr><tr><td>source 3</td><td>3.1</td></tr><tr><td>source 4</td><td>4.3</td></tr></table>"
       ],
       "metadata": {},
       "output_type": "pyout",
       "prompt_number": 38,
       "text": [
        "<Table rows=4 names=('name','flux')>\n",
        "array([('source 1', 1.2), ('source 2', 2.2), ('source 3', 3.1),\n",
        "       ('source 4', 4.3)], \n",
        "      dtype=[('name', '|S8'), ('flux', '<f8')])"
       ]
      }
     ],
     "prompt_number": 38
    },
    {
     "cell_type": "markdown",
     "metadata": {},
     "source": [
      "Now say that we now got some additional flux values from a different reference for a different, but overlapping sample of sources:"
     ]
    },
    {
     "cell_type": "code",
     "collapsed": false,
     "input": [
      "t2 = Table()\n",
      "t2['name'] = ['source 1', 'source 3', 'source 8']\n",
      "t2['flux2'] = [1.4, 3.5, 8.6]"
     ],
     "language": "python",
     "metadata": {},
     "outputs": [],
     "prompt_number": 39
    },
    {
     "cell_type": "markdown",
     "metadata": {},
     "source": [
      "Now we can get a master table of flux measurements which are joined matching the values the `name` column.  This includes every row from each of the two tables, which is known as an **`outer`** join:"
     ]
    },
    {
     "cell_type": "code",
     "collapsed": false,
     "input": [
      "from astropy.table import join\n",
      "t3 = join(t, t2, keys=['name'], join_type='outer')\n",
      "t3"
     ],
     "language": "python",
     "metadata": {},
     "outputs": [
      {
       "html": [
        "<table id=\"table70964944\"><thead><tr><th>name</th><th>flux</th><th>flux2</th></tr></thead><tr><td>source 1</td><td>1.2</td><td>1.4</td></tr><tr><td>source 2</td><td>2.2</td><td>--</td></tr><tr><td>source 3</td><td>3.1</td><td>3.5</td></tr><tr><td>source 4</td><td>4.3</td><td>--</td></tr><tr><td>source 8</td><td>--</td><td>8.6</td></tr></table>"
       ],
       "metadata": {},
       "output_type": "pyout",
       "prompt_number": 40,
       "text": [
        "<Table rows=5 names=('name','flux','flux2')>\n",
        "masked_array(data = [('source 1', 1.2, 1.4) ('source 2', 2.2, --) ('source 3', 3.1, 3.5)\n",
        " ('source 4', 4.3, --) ('source 8', --, 8.6)],\n",
        "             mask = [(False, False, False) (False, False, True) (False, False, False)\n",
        " (False, False, True) (False, True, False)],\n",
        "       fill_value = ('N/A', 1e+20, 1e+20),\n",
        "            dtype = [('name', '|S8'), ('flux', '<f8'), ('flux2', '<f8')])"
       ]
      }
     ],
     "prompt_number": 40
    },
    {
     "cell_type": "markdown",
     "metadata": {},
     "source": [
      "There are several other join options.  For example we could choose to keep only rows where both tables had a valid measurement using an **`inner`** join:"
     ]
    },
    {
     "cell_type": "code",
     "collapsed": false,
     "input": [
      "t3 = join(t, t2, keys=['name'], join_type='inner')\n",
      "t3"
     ],
     "language": "python",
     "metadata": {},
     "outputs": [
      {
       "html": [
        "<table id=\"table70966608\"><thead><tr><th>name</th><th>flux</th><th>flux2</th></tr></thead><tr><td>source 1</td><td>1.2</td><td>1.4</td></tr><tr><td>source 3</td><td>3.1</td><td>3.5</td></tr></table>"
       ],
       "metadata": {},
       "output_type": "pyout",
       "prompt_number": 41,
       "text": [
        "<Table rows=2 names=('name','flux','flux2')>\n",
        "array([('source 1', 1.2, 1.4), ('source 3', 3.1, 3.5)], \n",
        "      dtype=[('name', '|S8'), ('flux', '<f8'), ('flux2', '<f8')])"
       ]
      }
     ],
     "prompt_number": 41
    },
    {
     "cell_type": "markdown",
     "metadata": {},
     "source": [
      "Tables can be written to and read in from a variety of data formats:"
     ]
    },
    {
     "cell_type": "code",
     "collapsed": false,
     "input": [
      "t3.write('example.fits', overwrite=True)"
     ],
     "language": "python",
     "metadata": {},
     "outputs": [],
     "prompt_number": 42
    },
    {
     "cell_type": "markdown",
     "metadata": {},
     "source": [
      "Tables can be read back in using the `Table.read` interface, and then written to another format (this is an easy way to do format conversion):"
     ]
    },
    {
     "cell_type": "code",
     "collapsed": false,
     "input": [
      "t4 = Table.read('example.fits')"
     ],
     "language": "python",
     "metadata": {},
     "outputs": [],
     "prompt_number": 43
    },
    {
     "cell_type": "code",
     "collapsed": false,
     "input": [
      "t4"
     ],
     "language": "python",
     "metadata": {},
     "outputs": [
      {
       "html": [
        "<table id=\"table71132176\"><thead><tr><th>name</th><th>flux</th><th>flux2</th></tr></thead><tr><td>source 1</td><td>1.2</td><td>1.4</td></tr><tr><td>source 3</td><td>3.1</td><td>3.5</td></tr></table>"
       ],
       "metadata": {},
       "output_type": "pyout",
       "prompt_number": 44,
       "text": [
        "<Table rows=2 names=('name','flux','flux2')>\n",
        "array([('source 1', 1.2, 1.4), ('source 3', 3.1, 3.5)], \n",
        "      dtype=[('name', '|S8'), ('flux', '>f8'), ('flux2', '>f8')])"
       ]
      }
     ],
     "prompt_number": 44
    },
    {
     "cell_type": "code",
     "collapsed": false,
     "input": [
      "t4.write('example.vot', format='votable', overwrite=True)"
     ],
     "language": "python",
     "metadata": {},
     "outputs": [],
     "prompt_number": 45
    },
    {
     "cell_type": "code",
     "collapsed": false,
     "input": [
      "!cat example.vot"
     ],
     "language": "python",
     "metadata": {},
     "outputs": [
      {
       "output_type": "stream",
       "stream": "stdout",
       "text": [
        "<?xml version=\"1.0\" encoding=\"utf-8\"?>\r\n",
        "<!-- Produced with astropy.io.votable version 0.4.2\r\n",
        "     http://www.astropy.org/ -->\r\n",
        "<VOTABLE version=\"1.2\" xmlns=\"http://www.ivoa.net/xml/VOTable/v1.2\" xmlns:xsi=\"http://www.w3.org/2001/XMLSchema-instance\" xsi:noNamespaceSchemaLocation=\"http://www.ivoa.net/xml/VOTable/v1.2\">\r\n",
        " <RESOURCE type=\"results\">\r\n",
        "  <TABLE>\r\n",
        "   <FIELD ID=\"name\" arraysize=\"8\" datatype=\"char\" name=\"name\"/>\r\n",
        "   <FIELD ID=\"flux\" datatype=\"double\" name=\"flux\"/>\r\n",
        "   <FIELD ID=\"flux2\" datatype=\"double\" name=\"flux2\"/>\r\n",
        "   <DATA>\r\n",
        "    <TABLEDATA>\r\n",
        "     <TR>\r\n",
        "      <TD>source 1</TD>\r\n",
        "      <TD>1.2</TD>\r\n",
        "      <TD>1.3999999999999999</TD>\r\n",
        "     </TR>\r\n",
        "     <TR>\r\n",
        "      <TD>source 3</TD>\r\n",
        "      <TD>3.1000000000000001</TD>\r\n",
        "      <TD>3.5</TD>\r\n",
        "     </TR>\r\n",
        "    </TABLEDATA>\r\n",
        "   </DATA>\r\n",
        "  </TABLE>\r\n",
        " </RESOURCE>\r\n",
        "</VOTABLE>\r\n"
       ]
      }
     ],
     "prompt_number": 46
    },
    {
     "cell_type": "markdown",
     "metadata": {},
     "source": [
      "Tables can also be written to a variety of ASCII formats, including custom formats.  Before trying to hack together a hand-written table reader/writer look into what is possible with the [`astropy.io.ascii`](http://docs.astropy.org/en/stable/io/ascii/index.html).\n",
      "\n",
      "There is also an API for developing new table readers/writers for other formats, though the built-in formats cover much of the existing data out there."
     ]
    },
    {
     "cell_type": "heading",
     "level": 3,
     "metadata": {},
     "source": [
      "Doing more with FITS files"
     ]
    },
    {
     "cell_type": "markdown",
     "metadata": {},
     "source": [
      "We briefly saw how to save and load binary tables from FITS files, but that was through a high-level interface that does not give us a great deal of access to the lower-level details of FITS files.  We would also in many cases like to be able to manipulate the contents of FITS headers and the arrangement of HDUs.\n",
      "\n",
      "And although there is a high-level generic interface for tabular data in the `Table` class, the equivalent for gridded data like images is still under development (see: `NDData`).\n",
      "\n",
      "The full interface to FITS images that allows direct access to their image arrays and headers is via the [`astropy.io.fits`](http://docs.astropy.org/en/stable/io/fits/index.html) package.  If you have ever used the venerable [PyFITS](http://www.stsci.edu/institute/software_hardware/pyfits) library, then you have already used `astropy.io.fits`, which is just an import of PyFITS into Astropy.  By moving PyFITS into Astropy it is able to evolve new capabilities, such as the improved table interface, and improved support for units.\n",
      "\n",
      "To open a FITS file import the `fits` package and use the `fits.open` function:"
     ]
    },
    {
     "cell_type": "code",
     "collapsed": false,
     "input": [
      "from astropy.io import fits"
     ],
     "language": "python",
     "metadata": {},
     "outputs": [],
     "prompt_number": 47
    },
    {
     "cell_type": "code",
     "collapsed": false,
     "input": [
      "hdulist = fits.open('data/gll_iem_v02_P6_V11_DIFFUSE.fit')"
     ],
     "language": "python",
     "metadata": {},
     "outputs": [],
     "prompt_number": 48
    },
    {
     "cell_type": "markdown",
     "metadata": {},
     "source": [
      "The returned object, ``hdulist``, (an instance of the [HDUList class](http://docs.astropy.org/en/stable/io/fits/api/hdulists.html#hdulist)) behaves like a Python list, and each element\n",
      "maps to a Header-Data Unit (HDU) in the FITS file. You can view more\n",
      "information about the FITS file with:"
     ]
    },
    {
     "cell_type": "code",
     "collapsed": false,
     "input": [
      "hdulist.info()"
     ],
     "language": "python",
     "metadata": {},
     "outputs": [
      {
       "output_type": "stream",
       "stream": "stdout",
       "text": [
        "Filename: data/gll_iem_v02_P6_V11_DIFFUSE.fit\n",
        "No.    Name         Type      Cards   Dimensions   Format\n",
        "0    PRIMARY     PrimaryHDU      34   (720, 360, 30)   float32   \n",
        "1    ENERGIES    BinTableHDU     19   30R x 1C     [D]   \n"
       ]
      }
     ],
     "prompt_number": 49
    },
    {
     "cell_type": "markdown",
     "metadata": {},
     "source": [
      "As we can see, this file contains two HDUs. The first contains an image cube, the second a table with one column of double-precision floating point values. To access the primary HDU, which contains the main data, you can then do:"
     ]
    },
    {
     "cell_type": "code",
     "collapsed": false,
     "input": [
      "primary_hdu = hdulist[0]"
     ],
     "language": "python",
     "metadata": {},
     "outputs": [],
     "prompt_number": 50
    },
    {
     "cell_type": "markdown",
     "metadata": {},
     "source": [
      "To access the header use the `.header` attribute:"
     ]
    },
    {
     "cell_type": "code",
     "collapsed": false,
     "input": [
      "primary_hdu.header"
     ],
     "language": "python",
     "metadata": {},
     "outputs": [
      {
       "metadata": {},
       "output_type": "pyout",
       "prompt_number": 51,
       "text": [
        "SIMPLE  =                    T / Written by IDL:  Thu Jan 20 07:19:05 2011      \n",
        "BITPIX  =                  -32 /                                                \n",
        "NAXIS   =                    3 / number of data axes                            \n",
        "NAXIS1  =                  720 / length of data axis 1                          \n",
        "NAXIS2  =                  360 / length of data axis 2                          \n",
        "NAXIS3  =                   30 / length of data axis 3                          \n",
        "EXTEND  =                    T / FITS dataset may contain extensions            \n",
        "COMMENT   FITS (Flexible Image Transport System) format is defined in 'Astronomy\n",
        "COMMENT   and Astrophysics', volume 376, page 359; bibcode: 2001A&A...376..359H \n",
        "FLUX    =        8.42259635886 /                                                \n",
        "CRVAL1  =                   0. / Value of longitude in pixel CRPIX1             \n",
        "CDELT1  =                  0.5 / Step size in longitude                         \n",
        "CRPIX1  =                360.5 / Pixel that has value CRVAL1                    \n",
        "CTYPE1  = 'GLON-CAR'           / The type of parameter 1 (Galactic longitude in \n",
        "CUNIT1  = 'deg     '           / The unit of parameter 1                        \n",
        "CRVAL2  =                   0. / Value of latitude in pixel CRPIX2              \n",
        "CDELT2  =                  0.5 / Step size in latitude                          \n",
        "CRPIX2  =                180.5 / Pixel that has value CRVAL2                    \n",
        "CTYPE2  = 'GLAT-CAR'           / The type of parameter 2 (Galactic latitude in C\n",
        "CUNIT2  = 'deg     '           / The unit of parameter 2                        \n",
        "CRVAL3  =                  50. / Energy of pixel CRPIX3                         \n",
        "CDELT3  =    0.113828620540137 / log10 of step size in energy (if it is logarith\n",
        "CRPIX3  =                   1. / Pixel that has value CRVAL3                    \n",
        "CTYPE3  = 'photon energy'      / Axis 3 is the spectra                          \n",
        "CUNIT3  = 'MeV     '           / The unit of axis 3                             \n",
        "CHECKSUM= '3fdO3caL3caL3caL'   / HDU checksum updated 2009-07-07T22:31:18       \n",
        "DATASUM = '2184619035'         / data unit checksum updated 2009-07-07T22:31:18 \n",
        "DATE    = '2009-07-07'         /                                                \n",
        "FILENAME= '$TEMPDIR/diffuse/gll_iem_v02.fit' /File name with version number     \n",
        "TELESCOP= 'GLAST   '           /                                                \n",
        "INSTRUME= 'LAT     '           /                                                \n",
        "ORIGIN  = 'LISOC   '           /LAT team product delivered from the LISOC       \n",
        "OBSERVER= 'MICHELSON'          /Instrument PI                                   \n",
        "HISTORY Scaled version of gll_iem_v02.fit for use with P6_V11_DIFFUSE           "
       ]
      }
     ],
     "prompt_number": 51
    },
    {
     "cell_type": "markdown",
     "metadata": {},
     "source": [
      "The [`Header`](http://docs.astropy.org/en/stable/io/fits/usage/headers.html) object works very similarly to the Python `dict` type--the values for individual keywords can be looked up like so:"
     ]
    },
    {
     "cell_type": "code",
     "collapsed": false,
     "input": [
      "primary_hdu.header['OBSERVER']"
     ],
     "language": "python",
     "metadata": {},
     "outputs": [
      {
       "metadata": {},
       "output_type": "pyout",
       "prompt_number": 52,
       "text": [
        "'MICHELSON'"
       ]
      }
     ],
     "prompt_number": 52
    },
    {
     "cell_type": "markdown",
     "metadata": {},
     "source": [
      "The `Header` interface has a wealth of other capabilities that can be read about in the full documentation."
     ]
    },
    {
     "cell_type": "markdown",
     "metadata": {},
     "source": [
      "The array data associated with an HDU can be accessed via the `.data` attribute, which returns a view of the data as a Numpy array.  In this example the data is an image cube for a series of wavelengths.  To display the first one:"
     ]
    },
    {
     "cell_type": "code",
     "collapsed": false,
     "input": [
      "%matplotlib inline\n",
      "from matplotlib.pyplot import imshow\n",
      "\n",
      "imshow(primary_hdu.data[0], origin='lower')"
     ],
     "language": "python",
     "metadata": {},
     "outputs": [
      {
       "metadata": {},
       "output_type": "pyout",
       "prompt_number": 53,
       "text": [
        "<matplotlib.image.AxesImage at 0x4f06e90>"
       ]
      },
      {
       "metadata": {},
       "output_type": "display_data",
       "png": "[encoded data removed]",
       "text": [
        "<matplotlib.figure.Figure at 0x43e74d0>"
       ]
      }
     ],
     "prompt_number": 53
    },
    {
     "cell_type": "markdown",
     "metadata": {},
     "source": [
      "We will use this for a brief demonstration of how to write a new FITS file.  Say we wanted to save just this slice to a file.  We can create a new primary HDU with this data like so:"
     ]
    },
    {
     "cell_type": "code",
     "collapsed": false,
     "input": [
      "new_hdu = fits.PrimaryHDU(data=primary_hdu.data[0], header=primary_hdu.header)"
     ],
     "language": "python",
     "metadata": {},
     "outputs": [],
     "prompt_number": 54
    },
    {
     "cell_type": "markdown",
     "metadata": {},
     "source": [
      "This copies over the header from the original file, but some of the keywords are no longer applicable, such as the WCS for the spectral axis, or the filename keyword:"
     ]
    },
    {
     "cell_type": "code",
     "collapsed": false,
     "input": [
      "del new_hdu.header['FILENAME']"
     ],
     "language": "python",
     "metadata": {},
     "outputs": [],
     "prompt_number": 55
    },
    {
     "cell_type": "markdown",
     "metadata": {},
     "source": [
      "We can use a wildcard expression to take care of the WCS:"
     ]
    },
    {
     "cell_type": "code",
     "collapsed": false,
     "input": [
      "del new_hdu.header['C*3']"
     ],
     "language": "python",
     "metadata": {},
     "outputs": [],
     "prompt_number": 56
    },
    {
     "cell_type": "markdown",
     "metadata": {},
     "source": [
      "Note, however, that we did not have to fuss around with keywords related to the basic structure of the file, such as BITPIX or the NAXIS keywords.  It is not necessary to manipulate such basic structural keywords by hand--their consistency with the data is managed automatically (in the future there will be further enhancements to make WCS manipulation more transparent too):"
     ]
    },
    {
     "cell_type": "code",
     "collapsed": false,
     "input": [
      "new_hdu.header"
     ],
     "language": "python",
     "metadata": {},
     "outputs": [
      {
       "metadata": {},
       "output_type": "pyout",
       "prompt_number": 57,
       "text": [
        "SIMPLE  =                    T / conforms to FITS standard                      \n",
        "BITPIX  =                  -32 / array data type                                \n",
        "NAXIS   =                    2 / number of array dimensions                     \n",
        "NAXIS1  =                  720                                                  \n",
        "NAXIS2  =                  360                                                  \n",
        "COMMENT   FITS (Flexible Image Transport System) format is defined in 'Astronomy\n",
        "COMMENT   and Astrophysics', volume 376, page 359; bibcode: 2001A&A...376..359H \n",
        "FLUX    =        8.42259635886 /                                                \n",
        "CRVAL1  =                   0. / Value of longitude in pixel CRPIX1             \n",
        "CDELT1  =                  0.5 / Step size in longitude                         \n",
        "CRPIX1  =                360.5 / Pixel that has value CRVAL1                    \n",
        "CTYPE1  = 'GLON-CAR'           / The type of parameter 1 (Galactic longitude in \n",
        "CUNIT1  = 'deg     '           / The unit of parameter 1                        \n",
        "CRVAL2  =                   0. / Value of latitude in pixel CRPIX2              \n",
        "CDELT2  =                  0.5 / Step size in latitude                          \n",
        "CRPIX2  =                180.5 / Pixel that has value CRVAL2                    \n",
        "CTYPE2  = 'GLAT-CAR'           / The type of parameter 2 (Galactic latitude in C\n",
        "CUNIT2  = 'deg     '           / The unit of parameter 2                        \n",
        "CHECKSUM= '3fdO3caL3caL3caL'   / HDU checksum updated 2009-07-07T22:31:18       \n",
        "DATASUM = '2184619035'         / data unit checksum updated 2009-07-07T22:31:18 \n",
        "DATE    = '2009-07-07'         /                                                \n",
        "TELESCOP= 'GLAST   '           /                                                \n",
        "INSTRUME= 'LAT     '           /                                                \n",
        "ORIGIN  = 'LISOC   '           /LAT team product delivered from the LISOC       \n",
        "OBSERVER= 'MICHELSON'          /Instrument PI                                   \n",
        "HISTORY Scaled version of gll_iem_v02.fit for use with P6_V11_DIFFUSE           "
       ]
      }
     ],
     "prompt_number": 57
    },
    {
     "cell_type": "markdown",
     "metadata": {},
     "source": [
      "Writing the file out with the `checksum=True` option will also update the `CHECKSUM` and `DATASUM` keywords:"
     ]
    },
    {
     "cell_type": "code",
     "collapsed": false,
     "input": [
      "new_hdu.writeto('lat_background_model_slice.fits', checksum=True)"
     ],
     "language": "python",
     "metadata": {},
     "outputs": [],
     "prompt_number": 58
    },
    {
     "cell_type": "heading",
     "level": 3,
     "metadata": {},
     "source": [
      "Coordinates"
     ]
    },
    {
     "cell_type": "markdown",
     "metadata": {},
     "source": [
      "This is a good place for a brief mention of the [`coordinates`](http://docs.astropy.org/en/stable/coordinates/index.html) interface; specifically the `SkyCoord` object, a high level interface for representation and manipulation of celestial coordinates.  Astropy 0.4 only includes a few common coordinate systems (ICRS, FK4, FK5, and Galactic), but future versions will include more built-in coordinate systems, and users can already define their own systems.\n",
      "\n",
      "Creating coordinate objects is straightforward.  We use units--often `u.deg` (a shorthand for `u.degree`) to specify the units of the angles:"
     ]
    },
    {
     "cell_type": "code",
     "collapsed": false,
     "input": [
      "from astropy.coordinates import SkyCoord\n",
      "from astropy import units as u"
     ],
     "language": "python",
     "metadata": {},
     "outputs": [],
     "prompt_number": 60
    },
    {
     "cell_type": "code",
     "collapsed": false,
     "input": [
      "SkyCoord(ra=10.68458 * u.deg, dec=41.26917 * u.deg, frame='icrs')"
     ],
     "language": "python",
     "metadata": {},
     "outputs": [
      {
       "metadata": {},
       "output_type": "pyout",
       "prompt_number": 61,
       "text": [
        "<SkyCoord (ICRS): ra=10.68458 deg, dec=41.26917 deg>"
       ]
      }
     ],
     "prompt_number": 61
    },
    {
     "cell_type": "markdown",
     "metadata": {},
     "source": [
      "In addition to passing angular Quantity objects, the SkyCoord class can parse coordinate strings (this can be used to pass initialize a `SkyCoord` object from, say, a column of coordinates read from an ASCII table with the `Table` interface):"
     ]
    },
    {
     "cell_type": "code",
     "collapsed": false,
     "input": [
      "c = SkyCoord('00h42m44.3s +41d16m9s', frame='icrs')\n",
      "c"
     ],
     "language": "python",
     "metadata": {},
     "outputs": [
      {
       "metadata": {},
       "output_type": "pyout",
       "prompt_number": 63,
       "text": [
        "<SkyCoord (ICRS): ra=10.6845833333 deg, dec=41.2691666667 deg>"
       ]
      }
     ],
     "prompt_number": 63
    },
    {
     "cell_type": "markdown",
     "metadata": {},
     "source": [
      "We can access the different components as [`Angle`](http://docs.astropy.org/en/stable/api/astropy.coordinates.Angle.html#astropy.coordinates.Angle) objects and convert them to other units:"
     ]
    },
    {
     "cell_type": "code",
     "collapsed": false,
     "input": [
      "c.ra"
     ],
     "language": "python",
     "metadata": {},
     "outputs": [
      {
       "latex": [
        "$10^\\circ41{}^\\prime04.5{}^{\\prime\\prime}$"
       ],
       "metadata": {},
       "output_type": "pyout",
       "prompt_number": 64,
       "text": [
        "<Longitude 10.684583333333332 deg>"
       ]
      }
     ],
     "prompt_number": 64
    },
    {
     "cell_type": "code",
     "collapsed": false,
     "input": [
      "c.ra.hour"
     ],
     "language": "python",
     "metadata": {},
     "outputs": [
      {
       "metadata": {},
       "output_type": "pyout",
       "prompt_number": 66,
       "text": [
        "0.7123055555555556"
       ]
      }
     ],
     "prompt_number": 66
    },
    {
     "cell_type": "markdown",
     "metadata": {},
     "source": [
      "...and so on.\n",
      "\n",
      "It is also possible to convert our `SkyCoord` object to other coordinate frames:"
     ]
    },
    {
     "cell_type": "code",
     "collapsed": false,
     "input": [
      "c.galactic"
     ],
     "language": "python",
     "metadata": {},
     "outputs": [
      {
       "metadata": {},
       "output_type": "pyout",
       "prompt_number": 67,
       "text": [
        "<SkyCoord (Galactic): l=121.174305193 deg, b=-21.5728034839 deg>"
       ]
      }
     ],
     "prompt_number": 67
    },
    {
     "cell_type": "markdown",
     "metadata": {},
     "source": [
      "Or we can create custom coordinate frames in order to adjust other parameters, such as the equinox:"
     ]
    },
    {
     "cell_type": "code",
     "collapsed": false,
     "input": [
      "from astropy.coordinates import FK5"
     ],
     "language": "python",
     "metadata": {},
     "outputs": [],
     "prompt_number": 68
    },
    {
     "cell_type": "code",
     "collapsed": false,
     "input": [
      "frame = FK5(equinox='J2010')"
     ],
     "language": "python",
     "metadata": {},
     "outputs": [],
     "prompt_number": 69
    },
    {
     "cell_type": "code",
     "collapsed": false,
     "input": [
      "c.transform_to(frame)"
     ],
     "language": "python",
     "metadata": {},
     "outputs": [
      {
       "metadata": {},
       "output_type": "pyout",
       "prompt_number": 70,
       "text": [
        "<SkyCoord (FK5): equinox=J2010.000, ra=10.8218390257 deg, dec=41.3238612021 deg>"
       ]
      }
     ],
     "prompt_number": 70
    }
   ],
   "metadata": {}
  }
 ]
}