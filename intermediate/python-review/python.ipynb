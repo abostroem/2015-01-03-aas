{
 "metadata": {
  "name": "",
  "signature": "sha256:d0cec66b1fa2f0d8c23cd0036767f1ac8382d9bd66ca2c03e0b30ee3d143d6c3"
 },
 "nbformat": 3,
 "nbformat_minor": 0,
 "worksheets": [
  {
   "cells": [
    {
     "cell_type": "markdown",
     "metadata": {},
     "source": [
      "# Introduction to / review of Python"
     ]
    },
    {
     "cell_type": "markdown",
     "metadata": {},
     "source": [
      "For a full version of these notes with the examples filled in click [here](http://nbviewer.ipython.org/github/abostroem/2015-01-03-aas/blob/gh-pages/intermediate/python-review/python-full.ipynb).  This is useful if you fall behind or want to refer back to these notes later."
     ]
    },
    {
     "cell_type": "heading",
     "level": 2,
     "metadata": {},
     "source": [
      "Why Python?"
     ]
    },
    {
     "cell_type": "markdown",
     "metadata": {},
     "source": [
      "* Clean and powerful language designed by people who highly value elegance and readability.\n",
      "* Strong set of 3rd party analysis tools that are professionally and actively developed.\n",
      "  * In particular a lot of momentum behind use of Python to develop scientific tools over the last decade:\n",
      "    If you analyze data from Chandra, LOFAR, Fermi, Herschel, HST, JWST, ALMA, EVLA (etc etc) you will likely end up using   Python even if you didn\u2019t intend it.  So learning to use Python for for Astronomy data analysis has a good chance of paying off.\n",
      "* Interfaces well with existing C, C++, and FORTRAN libraries, providing access to existing libraries, such as robust numerical libraries like BLAS, ATLAS, etc. but with an easier to use interface.\n",
      "  * Easier then to write numerical code, while also interacting with databases, using data from the web, visualization,\n",
      "    and other such tasks that a higher-level language makes easier, all without leaving Python.\n",
      "* Very active developer community.\n",
      "* Free as in open source, and \"free as in beer\".  Anyone can run Python on almost any platform for free--neither you nor your collaborators will need to worry about having the proper licenses to run software written in Python (unless of course the software itself is proprietary, though that is uncommon).\n",
      "\n",
      "\n",
      "**Why not?**\n",
      "\n",
      "* Switching from a familiar analysis environment is NOT FREE (hours \\* dollars/hour \\* overhead_rate)\n",
      "  * \u201cUgh, I could do this so much faster the old way.\u201d\n",
      "  * \u201cI can't find the functions I need to do [insert favorite IDL function].\u201d\n",
      "  * \u201cStupid Python, why isn\u2019t this working?!\u201d\n",
      "  * \u201cThese plots look ugly.\u201d\n",
      "  \n",
      "However, Python has been actively used in the astronomy community for 10+ years, and has even driven some of the development of Python."
     ]
    },
    {
     "cell_type": "heading",
     "level": 2,
     "metadata": {},
     "source": [
      "Table of Contents"
     ]
    },
    {
     "cell_type": "markdown",
     "metadata": {},
     "source": [
      "* [1. Individual things](#1.-Individual-things)\n",
      "* [2. Commands that operate on things](#2.-Commands-that-operate-on-things)\n",
      "  * [EXERCISE 1 - Introducing logistic growth](#EXERCISE-1---Introducing-logistic-growth)\n",
      "* [3. Collections of things](#3.-Collections-of-things)\n",
      "  * [EXERCISE 2 - Storing population size in a list](#EXERCISE-2---Storing-population-size-in-a-list)\n",
      "  * [EXERCISE 3 - Storing data in arrays](#EXERCISE-3---Storing-data-in-arrays)\n",
      "* [4. Repeating yourself](#4.-Repeating-yourself)\n",
      "  * [EXERCISE 4 - Using loops to repeat calculations](#EXERCISE-4---Using-loops-to-repeat-calculations)\n",
      "* [5. Making choices](#5.-Making-choices)\n",
      "  * [EXERCISE 5 - Making the model stochastic with an if statement](#EXERCISE-5---Making-the-model-stochastic-with-an-if-statement)\n",
      "* [6. Creating chunks with functions and modules](#6.-Creating-chunks-with-functions-and-modules)\n",
      "  * [EXERCISE 6 - Creating a logistic growth function](#EXERCISE-6---Creating-a-logistic-growth-function)\n",
      "  * [EXERCISE 7 - Putting the growth function(s) in a module](#EXERCISE-7---Putting-the-growth-functions-in-a-module)"
     ]
    },
    {
     "cell_type": "heading",
     "level": 2,
     "metadata": {},
     "source": [
      "1. Individual things"
     ]
    },
    {
     "cell_type": "markdown",
     "metadata": {},
     "source": [
      "The most basic component of any programming language are \"things\", also called objects.\n",
      "\n",
      "The most common basic \"things\" in Python are integers, floats, strings, booleans, and\n",
      "some special objects of various types. We'll meet many of these as we go through the lesson."
     ]
    },
    {
     "cell_type": "markdown",
     "metadata": {},
     "source": [
      "__TIP:__ To run the code in a cell quickly, press Ctrl-Enter."
     ]
    },
    {
     "cell_type": "markdown",
     "metadata": {},
     "source": [
      "__TIP:__ To quickly create a new cell below an existing one, hit the ESC key to go into the notebook's \"command mode\" and then hit the 'b' key.\n",
      "Other shortcuts for making, deleting, and moving cells are in the menubar at the top of the\n",
      "screen."
     ]
    },
    {
     "cell_type": "code",
     "collapsed": true,
     "input": [
      "# A thing"
     ],
     "language": "python",
     "metadata": {},
     "outputs": []
    },
    {
     "cell_type": "code",
     "collapsed": true,
     "input": [
      "# Use print to show multiple things in the same cell\n",
      "# Note that you can use single or double quotes for strings"
     ],
     "language": "python",
     "metadata": {},
     "outputs": []
    },
    {
     "cell_type": "code",
     "collapsed": true,
     "input": [
      "# Things can be stored as variables"
     ],
     "language": "python",
     "metadata": {},
     "outputs": []
    },
    {
     "cell_type": "code",
     "collapsed": true,
     "input": [
      "# The type function tells us the type of thing we have"
     ],
     "language": "python",
     "metadata": {},
     "outputs": []
    },
    {
     "cell_type": "markdown",
     "metadata": {},
     "source": [
      "[^Back to top](#Table-of-Contents)"
     ]
    },
    {
     "cell_type": "heading",
     "level": 2,
     "metadata": {},
     "source": [
      "2. Commands that operate on things"
     ]
    },
    {
     "cell_type": "markdown",
     "metadata": {},
     "source": [
      "Just storing data in variables isn't much use to us. Right away, we'd like to start performing\n",
      "operations and manipulations on data and variables.\n",
      "\n",
      "There are three very common means of performing an operation on a thing."
     ]
    },
    {
     "cell_type": "heading",
     "level": 3,
     "metadata": {},
     "source": [
      "2.1 Use an operator"
     ]
    },
    {
     "cell_type": "markdown",
     "metadata": {},
     "source": [
      "All of the basic math operators work like you think they should for numbers. They can also\n",
      "do some useful operations on other things, like strings. There are also boolean operators that\n",
      "compare quantities and give back a `bool` variable as a result."
     ]
    },
    {
     "cell_type": "code",
     "collapsed": true,
     "input": [
      "# Standard math operators work as expected in numerical expressions"
     ],
     "language": "python",
     "metadata": {},
     "outputs": []
    },
    {
     "cell_type": "code",
     "collapsed": false,
     "input": [
      "# We can also assign numbers to named variables for use in expressions"
     ],
     "language": "python",
     "metadata": {},
     "outputs": []
    },
    {
     "cell_type": "code",
     "collapsed": true,
     "input": [
      "# But be careful with integer division\n",
      "# Also watch out for exponentiation - you want **, not ^"
     ],
     "language": "python",
     "metadata": {},
     "outputs": []
    },
    {
     "cell_type": "code",
     "collapsed": true,
     "input": [
      "# There are also operators for strings"
     ],
     "language": "python",
     "metadata": {},
     "outputs": []
    },
    {
     "cell_type": "code",
     "collapsed": true,
     "input": [
      "# Boolean operators compare two things"
     ],
     "language": "python",
     "metadata": {},
     "outputs": []
    },
    {
     "cell_type": "heading",
     "level": 3,
     "metadata": {},
     "source": [
      "2.2 Use a function"
     ]
    },
    {
     "cell_type": "markdown",
     "metadata": {},
     "source": [
      "These will be very familiar to anyone who has programmed in any language, and work like you\n",
      "would expect."
     ]
    },
    {
     "cell_type": "code",
     "collapsed": true,
     "input": [
      "# There are thousands of functions that operate on things"
     ],
     "language": "python",
     "metadata": {},
     "outputs": []
    },
    {
     "cell_type": "markdown",
     "metadata": {},
     "source": [
      "__TIP:__ To find out what a function does, you can type it's name and then a question mark to\n",
      "get a pop up help window. Or, to see what arguments it takes, you can type its name, an open\n",
      "parenthesis, and hit tab."
     ]
    },
    {
     "cell_type": "code",
     "collapsed": true,
     "input": [
      "#round?\n",
      "#round("
     ],
     "language": "python",
     "metadata": {},
     "outputs": []
    },
    {
     "cell_type": "markdown",
     "metadata": {},
     "source": [
      "__TIP:__ Many useful functions are not in the Python built in library, but are in external\n",
      "scientific packages. These need to be imported into your Python notebook (or program) before\n",
      "they can be used. Probably the most important of these are numpy and matplotlib."
     ]
    },
    {
     "cell_type": "code",
     "collapsed": true,
     "input": [
      "# Many useful functions are in external packages\n",
      "# Let's meet numpy\n",
      "import numpy as np"
     ],
     "language": "python",
     "metadata": {},
     "outputs": []
    },
    {
     "cell_type": "code",
     "collapsed": true,
     "input": [
      "# To see what's in a package, type the name, a period, then hit tab\n",
      "#np?\n",
      "#np."
     ],
     "language": "python",
     "metadata": {},
     "outputs": []
    },
    {
     "cell_type": "code",
     "collapsed": true,
     "input": [
      "# Some examples of numpy functions and \"things\""
     ],
     "language": "python",
     "metadata": {},
     "outputs": []
    },
    {
     "cell_type": "heading",
     "level": 3,
     "metadata": {},
     "source": [
      "2.3 Use a method"
     ]
    },
    {
     "cell_type": "markdown",
     "metadata": {},
     "source": [
      "Before we get any farther into the Python language, we have to say a word about \"objects\". We\n",
      "will not be teaching object oriented programming in this workshop, but you will encounter objects\n",
      "throughout Python (in fact, even seemingly simple things like ints and strings are actually\n",
      "objects in Python).\n",
      "\n",
      "In the simplest terms, you can think of an object as a small bundled \"thing\" that contains within\n",
      "itself both data and functions that operate on that data. For example, strings in Python are\n",
      "objects that contain a set of characters and also various functions that operate on the set of\n",
      "characters. When bundled in an object, these functions are called \"methods\".\n",
      "\n",
      "Instead of the \"normal\" `function(arguments)` syntax, methods are called using the\n",
      "syntax `variable.method(arguments)`."
     ]
    },
    {
     "cell_type": "code",
     "collapsed": true,
     "input": [
      "# A string\n",
      "a = 'hello'\n",
      "print a.capitalize()\n",
      "print a.replace('l', 'x')\n",
      "print a.upper()\n",
      "len(a)"
     ],
     "language": "python",
     "metadata": {},
     "outputs": []
    },
    {
     "cell_type": "code",
     "collapsed": true,
     "input": [
      "# Objects have bundled methods\n",
      "#a."
     ],
     "language": "python",
     "metadata": {},
     "outputs": []
    },
    {
     "cell_type": "heading",
     "level": 3,
     "metadata": {},
     "source": [
      "EXERCISE 1 - Introducing logistic growth"
     ]
    },
    {
     "cell_type": "markdown",
     "metadata": {},
     "source": [
      "Throughout this lesson, we will successively build towards a program that will calculate the\n",
      "logistic growth of a population of bacteria in a petri dish (or bears in the woods, if you\n",
      "prefer). The exercises will build on each other - if at any time you get behind, you can open the\n",
      "notebook _python-full_ to review answers to the previous exercises and catch up.\n",
      "\n",
      "As a reminder, a commonly used discrete time equation for logistic population growth is\n",
      "\n",
      "$$\n",
      "n(t+1) = n(t) + r n(t) [1 - n(t) / K]\n",
      "$$\n",
      "\n",
      "where $ n(t)$  is the population size at time $ t $, $ r $ is the net per capita growth rate, and $ K $ is the\n",
      "carrying capacity of the dish/woods.\n",
      "\n",
      "To get started, write Python expressions that do the following:\n",
      "\n",
      "1. Create variables for `r`, `K`, and `n0`, setting these equal to 0.6, 100, and 10, respectively.\n",
      "1. Create the variable `n1` and calculate it's value. Do the same for `n2`.\n",
      "1. Check the type of `n2` - what is it?\n",
      "1. Modify your calculations for `n1` and `n2` so that these values are rounded to the nearest\n",
      "integer.\n",
      "\n",
      "__Bonus__\n",
      "\n",
      "1. Test whether `n2` is larger than 20, and print out a line that says \"n2 more than 20: \"\n",
      "followed by the answer (either True or False).\n",
      "1. Figure out how to test whether `n2` is an integer (a mathematical integer, not necessarily\n",
      "whether it is an integer type) (HINT: look at the methods of `n2` by typing `n2.` and pressing\n",
      "tab.)"
     ]
    },
    {
     "cell_type": "code",
     "collapsed": true,
     "input": [],
     "language": "python",
     "metadata": {},
     "outputs": []
    },
    {
     "cell_type": "markdown",
     "metadata": {},
     "source": [
      "[^Back to top](#Table-of-Contents)"
     ]
    },
    {
     "cell_type": "heading",
     "level": 2,
     "metadata": {},
     "source": [
      "3. Collections of things"
     ]
    },
    {
     "cell_type": "markdown",
     "metadata": {},
     "source": [
      "Once the number of variables that you are interested in starts getting large, working with them\n",
      "all individually starts to get unwieldy. To help stay organized, we can use collections of things.\n",
      "\n",
      "Probably 99% of your work in scientific Python will use one of four types of collections:\n",
      "lists, tuples, dictionaries, and numpy arrays. We'll look quickly at each of these and what\n",
      "they can do for you."
     ]
    },
    {
     "cell_type": "heading",
     "level": 3,
     "metadata": {},
     "source": [
      "3.1 Lists"
     ]
    },
    {
     "cell_type": "markdown",
     "metadata": {},
     "source": [
      "Lists are probably the handiest and most flexible type of container. Lists are declared with\n",
      "square brackets `[]`. Individual elements of a list can be selected using the syntax `a[ind]`."
     ]
    },
    {
     "cell_type": "code",
     "collapsed": true,
     "input": [
      "# Lists are created with square bracket syntax"
     ],
     "language": "python",
     "metadata": {},
     "outputs": []
    },
    {
     "cell_type": "code",
     "collapsed": true,
     "input": [
      "# Lists (and all collections) are also indexed with square brackets\n",
      "# NOTE: The first index is zero, not one"
     ],
     "language": "python",
     "metadata": {},
     "outputs": []
    },
    {
     "cell_type": "code",
     "collapsed": true,
     "input": [
      "# Lists can be sliced by putting a colon between indexes\n",
      "# NOTE: The end value is not inclusive"
     ],
     "language": "python",
     "metadata": {},
     "outputs": []
    },
    {
     "cell_type": "code",
     "collapsed": true,
     "input": [
      "# You can leave off the start or end if desired"
     ],
     "language": "python",
     "metadata": {},
     "outputs": []
    },
    {
     "cell_type": "code",
     "collapsed": false,
     "input": [
      "# Just remember that a[:] makes a *copy* of list"
     ],
     "language": "python",
     "metadata": {},
     "outputs": []
    },
    {
     "cell_type": "code",
     "collapsed": true,
     "input": [
      "# Lists are objects, like everything else, and have methods such as append"
     ],
     "language": "python",
     "metadata": {},
     "outputs": []
    },
    {
     "cell_type": "code",
     "collapsed": false,
     "input": [
      "# A very common use of lists is to create a range of integers\n",
      "# This is easy in Python using the built-in range function like\n",
      "# range(start, end); note that like the 'slice' notation the end value\n",
      "# is *not* inclusive"
     ],
     "language": "python",
     "metadata": {},
     "outputs": []
    },
    {
     "cell_type": "markdown",
     "metadata": {},
     "source": [
      "__TIP:__ A 'gotcha' for some new Python users is that many collections, including lists,\n",
      "actually store pointers to data, not the data itself. This means that you need to be careful with\n",
      "writing things `b = a` and then changing `a`, since this will also change `b`. Have a look at the \n",
      "`copy` module if you want to make copies of variables."
     ]
    },
    {
     "cell_type": "heading",
     "level": 3,
     "metadata": {},
     "source": [
      "EXERCISE 2 - Storing population size in a list"
     ]
    },
    {
     "cell_type": "markdown",
     "metadata": {},
     "source": [
      "Copy your code from Exercise 1 into the box below, and do the following:\n",
      "\n",
      "1. Modify your code so that the values of `n0`, `n1`, `n2`, and `n3` are stored in a list and not as\n",
      "separate individual variables. HINT: You can start off by declaring an empty list using the syntax\n",
      "`n = []`, and then append each new calculated value of `nt` to the list.\n",
      "1. Get the first and last values in the list, calculate their ratio, and print out \"Grew by a factor of \"\n",
      "followed by the result.\n",
      "\n",
      "__Bonus__\n",
      "\n",
      "1. Extract the last value in two different ways: first, by using the index for\n",
      "the last item in the list, and second, presuming that you do not know how long the list is.\n",
      "1. Change the values of `r` and `K` to make sure that your cell still runs correctly and gives\n",
      "reasonable answers."
     ]
    },
    {
     "cell_type": "code",
     "collapsed": true,
     "input": [
      "######################################\n",
      "# This code deletes our old variables\n",
      "try: del n0, n1, n2, r, K\n",
      "except: pass\n",
      "######################################"
     ],
     "language": "python",
     "metadata": {},
     "outputs": []
    },
    {
     "cell_type": "heading",
     "level": 3,
     "metadata": {},
     "source": [
      "3.2 Dictionaries"
     ]
    },
    {
     "cell_type": "markdown",
     "metadata": {},
     "source": [
      "Dictionaries are the collection to use when you want to store and retrieve things by their names\n",
      "(or some other kind of key) instead of by their position in the collection. A good example is a set\n",
      "of model parameters, each of which has a name and a value. Dictionaries are declared using {}."
     ]
    },
    {
     "cell_type": "code",
     "collapsed": true,
     "input": [
      "# Make a dictionary of model parameters"
     ],
     "language": "python",
     "metadata": {},
     "outputs": []
    },
    {
     "cell_type": "code",
     "collapsed": true,
     "input": [],
     "language": "python",
     "metadata": {},
     "outputs": []
    },
    {
     "cell_type": "code",
     "collapsed": true,
     "input": [],
     "language": "python",
     "metadata": {},
     "outputs": []
    },
    {
     "cell_type": "heading",
     "level": 3,
     "metadata": {},
     "source": [
      "3.3 Tuples"
     ]
    },
    {
     "cell_type": "markdown",
     "metadata": {},
     "source": [
      "We won't say a whole lot about tuples except to mention that they basically work just like lists, with\n",
      "two major exceptions:\n",
      "\n",
      "1. You declare tuples using `()` instead of `[]`\n",
      "1. Once you make a tuple, you can't change what's in it\n",
      "\n",
      "You'll see tuples come up throughout the Python language, and over time you'll develop a feel for when\n",
      "to use them. In general, they're often used instead of lists to group items when the position in the\n",
      "collection is critical to understanding the item's meaning, such as `(x,y)`, and when you want to make\n",
      "sure that you don't accidentally modify any of the items later."
     ]
    },
    {
     "cell_type": "heading",
     "level": 3,
     "metadata": {},
     "source": [
      "3.4 Numpy arrays (ndarrays)"
     ]
    },
    {
     "cell_type": "markdown",
     "metadata": {},
     "source": [
      "Even though numpy arrays (often written as ndarrays, for n-dimensional arrays) are not part of the\n",
      "core Python libraries, they are so useful in scientific Python that we'll include them here in the \n",
      "core lesson. Numpy arrays are collections of things, all of which must be the same type, that work\n",
      "similarly to lists (as we've described them so far). The most important are:\n",
      "\n",
      "1. You can easily perform elementwise operations (and matrix algebra) on arrays\n",
      "1. Arrays can be n-dimensional\n",
      "1. Arrays must be pre-allocated (ie, there is no equivalent to append)\n",
      "\n",
      "Arrays can be created from existing collections such as lists, or instantiated \"from scratch\" in a \n",
      "few useful ways.\n",
      "\n",
      "When getting started with scientific Python, you will probably want to try to use ndarrays whenever\n",
      "possible, saving the other types of collections for those cases when you have a specific reason to use\n",
      "them."
     ]
    },
    {
     "cell_type": "code",
     "collapsed": true,
     "input": [
      "# Make an array from a list"
     ],
     "language": "python",
     "metadata": {},
     "outputs": []
    },
    {
     "cell_type": "code",
     "collapsed": true,
     "input": [
      "# Do arithmetic on arrays"
     ],
     "language": "python",
     "metadata": {},
     "outputs": []
    },
    {
     "cell_type": "code",
     "collapsed": true,
     "input": [
      "# Boolean operators work on arrays too, and they return boolean arrays"
     ],
     "language": "python",
     "metadata": {},
     "outputs": []
    },
    {
     "cell_type": "code",
     "collapsed": true,
     "input": [
      "# Indexing arrays"
     ],
     "language": "python",
     "metadata": {},
     "outputs": []
    },
    {
     "cell_type": "code",
     "collapsed": true,
     "input": [
      "# Arrays can also be indexed with other boolean arrays"
     ],
     "language": "python",
     "metadata": {},
     "outputs": []
    },
    {
     "cell_type": "code",
     "collapsed": true,
     "input": [
      "# ndarrays have attributes in addition to methods\n",
      "#c."
     ],
     "language": "python",
     "metadata": {},
     "outputs": []
    },
    {
     "cell_type": "code",
     "collapsed": true,
     "input": [
      "# There are handy ways to make arrays full of ones and zeros"
     ],
     "language": "python",
     "metadata": {},
     "outputs": []
    },
    {
     "cell_type": "code",
     "collapsed": true,
     "input": [
      "# You can also easily make arrays of number sequences"
     ],
     "language": "python",
     "metadata": {},
     "outputs": []
    },
    {
     "cell_type": "heading",
     "level": 3,
     "metadata": {},
     "source": [
      "EXERCISE 3 - Storing data in arrays"
     ]
    },
    {
     "cell_type": "markdown",
     "metadata": {},
     "source": [
      "Copy your code from Exercise 2 into the box below, and do the following:\n",
      "\n",
      "1. Modify your code to store the calculation results in an array instead of a list. HINT: \n",
      "Make sure to pre-allocate space for the array using `np.zeros()` or something similar. Pre-allocate an\n",
      "array of length 100, as if we were going to fill in 100 time steps, including n0.\n",
      "2. Imagine that each discrete time step actually represents 0.25 of an hour. Create an array `t` storing\n",
      "the time, in hours, of each step of the calculations (for example, t0 is 0, t1 is 0.25, t2 is 0.5, etc.)\n",
      "up to 100 time steps (the final time will thus be 24.75).\n",
      "3. Use boolean indexing to extract the value of `n` corresponding to a `t` of 0.5."
     ]
    },
    {
     "cell_type": "code",
     "collapsed": true,
     "input": [],
     "language": "python",
     "metadata": {},
     "outputs": []
    },
    {
     "cell_type": "markdown",
     "metadata": {},
     "source": [
      "[^Back to top](#Table-of-Contents)"
     ]
    },
    {
     "cell_type": "heading",
     "level": 2,
     "metadata": {},
     "source": [
      "4. Repeating yourself"
     ]
    },
    {
     "cell_type": "markdown",
     "metadata": {},
     "source": [
      "So far, everything that we've done could, in principle, be done by hand calculation. In this section\n",
      "and the next, we really start to take advantage of the power of programming languages to do things\n",
      "for us automatically.\n",
      "\n",
      "We start here with ways to repeat yourself. The two most common ways of doing this are known as for\n",
      "loops and while loops. For loops in Python are useful when you want to cycle over all of the items\n",
      "in a collection (such as all of the elements of an array), and while loops are useful when you want to\n",
      "cycle for an indefinite amount of time until some condition is met.\n",
      "\n",
      "The basic examples below will work for looping over lists, tuples, and arrays. Looping over dictionaries\n",
      "is a bit different, since there is a key and a value for each item in a dictionary. Have a look at the\n",
      "Python docs for more information."
     ]
    },
    {
     "cell_type": "code",
     "collapsed": true,
     "input": [
      "# A basic for loop - don't forget the white space!"
     ],
     "language": "python",
     "metadata": {},
     "outputs": []
    },
    {
     "cell_type": "markdown",
     "metadata": {},
     "source": [
      "**Note on indentation**: Notice the indentation once we enter the for loop.  Every idented statement after the for loop declaration is part of the for loop.  This rule holds true for while loops, if statements, functions, etc. Required identation is one of the reasons Python is such a beautiful language to read.\n",
      "\n",
      "If you do not have consistent indentation you will get an `IndentationError`.  Fortunately, most code editors will ensure your indentation is correction."
     ]
    },
    {
     "cell_type": "code",
     "collapsed": false,
     "input": [
      "# Indentation error: Fix it!"
     ],
     "language": "python",
     "metadata": {},
     "outputs": []
    },
    {
     "cell_type": "code",
     "collapsed": true,
     "input": [
      "# Sum all of the values in a collection using a for loop"
     ],
     "language": "python",
     "metadata": {},
     "outputs": []
    },
    {
     "cell_type": "code",
     "collapsed": true,
     "input": [
      "# Often we want to loop over the indexes of a collection, not just the items"
     ],
     "language": "python",
     "metadata": {},
     "outputs": []
    },
    {
     "cell_type": "code",
     "collapsed": true,
     "input": [
      "# While loops are useful when you don't know how many steps you will need,\n",
      "# and want to stop once a certain condition is met."
     ],
     "language": "python",
     "metadata": {},
     "outputs": []
    },
    {
     "cell_type": "markdown",
     "metadata": {},
     "source": [
      "__TIP:__ Once we start really generating useful and large collections of data, it becomes unwieldy to\n",
      "inspect our results manually. The code below shows how to make a very simple plot of an array.\n",
      "We'll do more plotting later on, this is just to get started."
     ]
    },
    {
     "cell_type": "code",
     "collapsed": false,
     "input": [
      "# Load up pylab, a useful plotting library\n",
      "%matplotlib inline\n",
      "\n",
      "# Make some x and y data and plot it"
     ],
     "language": "python",
     "metadata": {},
     "outputs": []
    },
    {
     "cell_type": "heading",
     "level": 3,
     "metadata": {},
     "source": [
      "EXERCISE 4 - Using loops to repeat calculations"
     ]
    },
    {
     "cell_type": "markdown",
     "metadata": {},
     "source": [
      "FINALLY, let's get smart about our calculations of `nt`. Copy your code from Exercise 3 into the box\n",
      "below, and do the following:\n",
      "\n",
      "1. Write a for loop to fill in the values of `nt` for 100 time steps. HINT: You will need to \n",
      "create an array of the step numbers using a command like `step = range(1, 100)`. (Why does\n",
      "this list start at 1 and not at 0?). Then, loop over the values of the step list,\n",
      "and use each step value to index the array `n`.\n",
      "1. Plot the array `n`.\n",
      "1. Play around with the values of `r` and `K` and see how it changes the plot. What happens if you set\n",
      "`r` to 1.9 or 3?\n",
      "\n",
      "__Bonus__\n",
      "\n",
      "1. Modify your code to use a while loop that will stop your calculation once the population size is\n",
      "greater than 90. HINT: Start a step counter `i` at 1, and check that the value in `n[i-1]` is less than 90\n",
      "each time around the loop. Increment the step counter within the loop so that you have a record\n",
      "of what step the calculation stopped at."
     ]
    },
    {
     "cell_type": "code",
     "collapsed": true,
     "input": [],
     "language": "python",
     "metadata": {},
     "outputs": []
    },
    {
     "cell_type": "markdown",
     "metadata": {},
     "source": [
      "[^Back to top](#Table-of-Contents)"
     ]
    },
    {
     "cell_type": "heading",
     "level": 2,
     "metadata": {},
     "source": [
      "5. Making choices"
     ]
    },
    {
     "cell_type": "markdown",
     "metadata": {},
     "source": [
      "Often we want to check if a condition is True and take one action if it is, and another action if the\n",
      "condition is False. We can achieve this in Python with an if statement.\n",
      "\n",
      "__TIP:__ You can use any expression that returns a boolean value (`True` or `False`) in an if statement.\n",
      "Common boolean operators are `==`, `!=`, `<`, `<=`, `>`, `>=`. You can also use `is` and `is not` if you want to\n",
      "check if two variables are identical in the sense that they are stored in the same location in memory."
     ]
    },
    {
     "cell_type": "code",
     "collapsed": true,
     "input": [
      "# A simple if statement"
     ],
     "language": "python",
     "metadata": {},
     "outputs": []
    },
    {
     "cell_type": "code",
     "collapsed": true,
     "input": [
      "# If statements can rely on boolean variables"
     ],
     "language": "python",
     "metadata": {},
     "outputs": []
    },
    {
     "cell_type": "heading",
     "level": 3,
     "metadata": {},
     "source": [
      "EXERCISE 5 - Making the model stochastic with an if statement"
     ]
    },
    {
     "cell_type": "markdown",
     "metadata": {},
     "source": [
      "Deterministic models are boring, so let's introduce some element of randomness into our logistic\n",
      "growth model. We'll model a simple \"catastrophe\" process, in which a catastrophe happens in 10% of the\n",
      "time steps that reduces the population back down to the size at n0. Copy your code from Exercise 4\n",
      "into the box below, and do the following:\n",
      "\n",
      "1. Inside your for loop, add a variable called `cata`, for catastrophe, that will be True if a catastrophe\n",
      "has occurred, and False if it hasn't. A simple way to do this is to generate a random number using\n",
      "`np.random.rand()`, which will give you a pseudorandom number between 0 and 1. Check whether this number\n",
      "is less than 0.1 - this check will be True 10% of the time.\n",
      "1. Using your boolean variable `cata`, add an if statement to your for loop that checks whether `cat` is\n",
      "true in each time step. If it is true, set the population back to the size at n[0]. Otherwise, perform\n",
      "the usual logistic growth calculation.\n",
      "1. Plot your results. Run the cell again to see a different random population growth path.\n",
      "\n",
      "__Bonus__\n",
      "\n",
      "1. Now that you have the array `n`, count the number of time steps in which the population was above 50.\n",
      "Although you can do this with a for loop (loop through each value of `nt`, check if it is > 50, and if so\n",
      "increment a counter), you can do this in one line with a simple boolean operation.\n",
      "HINT: If you take the sum of a boolean array (using `np.sum()`), it will give you the number of\n",
      "`True` values (since a `True` is considered to be a 1, and `False` is a 0)."
     ]
    },
    {
     "cell_type": "code",
     "collapsed": true,
     "input": [],
     "language": "python",
     "metadata": {},
     "outputs": []
    },
    {
     "cell_type": "markdown",
     "metadata": {},
     "source": [
      "[^Back to top](#Table-of-Contents)"
     ]
    },
    {
     "cell_type": "heading",
     "level": 2,
     "metadata": {},
     "source": [
      "6. Creating chunks with functions and modules"
     ]
    },
    {
     "cell_type": "markdown",
     "metadata": {},
     "source": [
      "One way to write a program is to simply string together commands, like the ones described above, in a long\n",
      "file, and then to run that file to generate your results. This may work, but it can be cognitively difficult\n",
      "to follow the logic of programs written in this style. Also, it does not allow you to reuse your code\n",
      "easily - for example, what if we wanted to run our logistic growth model for several different choices of\n",
      "initial parameters?\n",
      "\n",
      "The most important ways to \"chunk\" code into more manageable pieces is to create functions and then\n",
      "to gather these functions into modules, and eventually packages. Below we will discuss how to create\n",
      "functions and modules. A third common type of \"chunk\" in Python is classes, but we will not be covering\n",
      "object-oriented programming in this workshop."
     ]
    },
    {
     "cell_type": "code",
     "collapsed": true,
     "input": [
      "# We've been using functions all day"
     ],
     "language": "python",
     "metadata": {},
     "outputs": []
    },
    {
     "cell_type": "code",
     "collapsed": true,
     "input": [
      "# It's very easy to write your own functions"
     ],
     "language": "python",
     "metadata": {},
     "outputs": []
    },
    {
     "cell_type": "code",
     "collapsed": true,
     "input": [
      "# Once a function is \"run\" and saved in memory, it's available just like any other function"
     ],
     "language": "python",
     "metadata": {},
     "outputs": []
    },
    {
     "cell_type": "code",
     "collapsed": true,
     "input": [
      "# It's useful to include docstrings to dxescribe what your function does"
     ],
     "language": "python",
     "metadata": {},
     "outputs": []
    },
    {
     "cell_type": "markdown",
     "metadata": {},
     "source": [
      "**Docstrings**: A docstring is a special type of comment that tells you what a function does.  You can see them when you ask for help about a function."
     ]
    },
    {
     "cell_type": "code",
     "collapsed": true,
     "input": [
      "# All arguments must be present, or the function will return an error"
     ],
     "language": "python",
     "metadata": {},
     "outputs": []
    },
    {
     "cell_type": "code",
     "collapsed": true,
     "input": [
      "# Keyword arguments can be used to make some arguments optional by giving them a default value\n",
      "# All mandatory arguments must come first, in order"
     ],
     "language": "python",
     "metadata": {},
     "outputs": []
    },
    {
     "cell_type": "heading",
     "level": 3,
     "metadata": {},
     "source": [
      "EXERCISE 6 - Creating a logistic growth function"
     ]
    },
    {
     "cell_type": "markdown",
     "metadata": {},
     "source": [
      "Finally, let's turn our logistic growth model into a function that we can use over and over again. \n",
      "Copy your code from Exercise 5 into the box below, and do the following:\n",
      "\n",
      "1. Turn your code into a function called `logistic_growth` that takes four arguments: `r`, `K`, `n0`,\n",
      "and `p` (the probability of a catastrophe). Make `p` a keyword argument with a default value of 0.1.\n",
      "Have your function return the `n` array.\n",
      "1. Write a nice docstring describing what your function does.\n",
      "1. In a subsequent cell, call your function with different values of the parameters to make sure it works.\n",
      "Store the returned value of `n` and make a plot from it.\n",
      "\n",
      "__Bonus__\n",
      "\n",
      "1. Refactor your function by pulling out the line that actually performs the calculation of the new\n",
      "population given the old population. Make this line another function called `grow_one_step` that takes\n",
      "in the old population, `r`, and `K`, and returns the new population. Have your `logistic_growth` function\n",
      "use the `grow_one_step` function to calculate the new population in each time step."
     ]
    },
    {
     "cell_type": "code",
     "collapsed": true,
     "input": [],
     "language": "python",
     "metadata": {},
     "outputs": []
    },
    {
     "cell_type": "heading",
     "level": 3,
     "metadata": {},
     "source": [
      "EXERCISE 7 - Putting the growth functions in a module"
     ]
    },
    {
     "cell_type": "markdown",
     "metadata": {},
     "source": [
      "We can make our functions more easily reusable by placing them into modules that we can import, just\n",
      "like we have been doing with `numpy`. It's pretty simple to do this.\n",
      "\n",
      "1. Copy your function(s) from Exercise 6 into a new text file, in the same directory as this notebook,\n",
      "called `pop.py`.\n",
      "1. In the cell below, type `import pop` to import the module. Type `pop.` and hit tab to see the available\n",
      "functions in the module. Try running the logistic growth function that was imported from the module with\n",
      "a few different parameter values."
     ]
    },
    {
     "cell_type": "code",
     "collapsed": true,
     "input": [
      "# import pop\n",
      "# plot(pop.logistic_growth(0.6, 100, 10))"
     ],
     "language": "python",
     "metadata": {},
     "outputs": []
    },
    {
     "cell_type": "markdown",
     "metadata": {},
     "source": [
      "[^Back to top](#Table-of-Contents)"
     ]
    }
   ],
   "metadata": {}
  }
 ]
}